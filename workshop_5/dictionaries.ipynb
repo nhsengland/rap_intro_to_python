{
 "cells": [
  {
   "cell_type": "markdown",
   "metadata": {},
   "source": [
    "# Intro to dictionaries\n",
    "\n",
    "A dictionary in Python is an ordered collection of items. This is different from a list, where you can access the first, second, nth item. You cannot do this with dictionaries. Instead, each item is a key-value pair, where each key is unique and this is how you would access the 'value'.\n",
    "\n",
    "## Creating a dictionary\n",
    "\n",
    "You can create a dictionary by placing a comma-separated sequence of key-value pairs within curly braces `{}`, with a colon `:` separating keys and values"
   ]
  },
  {
   "cell_type": "code",
   "execution_count": 17,
   "metadata": {},
   "outputs": [
    {
     "name": "stdout",
     "output_type": "stream",
     "text": [
      "{'key': 'value', 'name': 'Jen', 'age': 26, 'city': 'Leeds'}\n"
     ]
    }
   ],
   "source": [
    "my_dictionary = {\"key\": \"value\",\n",
    "                 \"name\": \"Jen\",\n",
    "                 \"age\": 26,\n",
    "                 \"city\": \"Leeds\"}\n",
    "\n",
    "print(my_dictionary)"
   ]
  },
  {
   "cell_type": "markdown",
   "metadata": {},
   "source": [
    "# Accessing all keys or values, or key-value pairs"
   ]
  },
  {
   "cell_type": "code",
   "execution_count": 18,
   "metadata": {},
   "outputs": [
    {
     "name": "stdout",
     "output_type": "stream",
     "text": [
      "items:  dict_items([('key', 'value'), ('name', 'Jen'), ('age', 26), ('city', 'Leeds')])\n",
      "keys:  dict_keys(['key', 'name', 'age', 'city'])\n",
      "values:  dict_values(['value', 'Jen', 26, 'Leeds'])\n"
     ]
    }
   ],
   "source": [
    "\n",
    "print(\"items: \", my_dictionary.items())\n",
    "print(\"keys: \", my_dictionary.keys())\n",
    "print(\"values: \", my_dictionary.values())"
   ]
  },
  {
   "cell_type": "markdown",
   "metadata": {},
   "source": [
    "## Accessing Dictionary Items\n",
    "\n",
    "You can access the items of a dictionary by referring to its key name, inside square brackets `[]`."
   ]
  },
  {
   "cell_type": "code",
   "execution_count": 19,
   "metadata": {},
   "outputs": [
    {
     "name": "stdout",
     "output_type": "stream",
     "text": [
      "Jen\n",
      "26\n"
     ]
    }
   ],
   "source": [
    "print(my_dictionary['name'])\n",
    "print(my_dictionary['age']) "
   ]
  },
  {
   "cell_type": "markdown",
   "metadata": {},
   "source": [
    "## Modifying dictionary items\n",
    "\n",
    "You can change the value after it have been set by referring it it's key"
   ]
  },
  {
   "cell_type": "code",
   "execution_count": 20,
   "metadata": {},
   "outputs": [
    {
     "name": "stdout",
     "output_type": "stream",
     "text": [
      "{'key': 'value', 'name': 'Jen', 'age': 27, 'city': 'Leeds'}\n"
     ]
    }
   ],
   "source": [
    "my_dictionary['age'] = 27\n",
    "\n",
    "print(my_dictionary)"
   ]
  },
  {
   "cell_type": "markdown",
   "metadata": {},
   "source": [
    "## Adding Items to a Dictionary\n",
    "\n",
    "You can add new items to a dictionary by using a new key and assigning a value to it."
   ]
  },
  {
   "cell_type": "code",
   "execution_count": 21,
   "metadata": {},
   "outputs": [
    {
     "name": "stdout",
     "output_type": "stream",
     "text": [
      "{'key': 'value', 'name': 'Jen', 'age': 27, 'city': 'Leeds', 'birthday': 'April'}\n"
     ]
    }
   ],
   "source": [
    "my_dictionary['birthday'] = 'April'\n",
    "\n",
    "print(my_dictionary)"
   ]
  },
  {
   "cell_type": "markdown",
   "metadata": {},
   "source": [
    "## Deleting from a dictionary\n",
    "\n",
    "You can remove items from a dictionary using the `del` statement or the `pop()` method."
   ]
  },
  {
   "cell_type": "code",
   "execution_count": 22,
   "metadata": {},
   "outputs": [
    {
     "name": "stdout",
     "output_type": "stream",
     "text": [
      "{'key': 'value', 'name': 'Jen', 'age': 27, 'city': 'Leeds'}\n"
     ]
    }
   ],
   "source": [
    "del my_dictionary['birthday']\n",
    "\n",
    "print(my_dictionary)"
   ]
  },
  {
   "cell_type": "code",
   "execution_count": 23,
   "metadata": {},
   "outputs": [
    {
     "name": "stdout",
     "output_type": "stream",
     "text": [
      "{'key': 'value', 'name': 'Jen', 'city': 'Leeds'}\n"
     ]
    }
   ],
   "source": [
    "my_dictionary.pop('age')\n",
    "\n",
    "print(my_dictionary)"
   ]
  },
  {
   "cell_type": "markdown",
   "metadata": {},
   "source": [
    "## Looping Through a Dictionary\n",
    "\n",
    "You can loop through a dictionary in several ways: keys, values, and key-value pairs."
   ]
  },
  {
   "cell_type": "code",
   "execution_count": 24,
   "metadata": {},
   "outputs": [
    {
     "name": "stdout",
     "output_type": "stream",
     "text": [
      "key\n",
      "name\n",
      "city\n"
     ]
    }
   ],
   "source": [
    "for key in my_dictionary.keys():\n",
    "    print(key)"
   ]
  },
  {
   "cell_type": "code",
   "execution_count": 25,
   "metadata": {},
   "outputs": [
    {
     "name": "stdout",
     "output_type": "stream",
     "text": [
      "value\n",
      "Jen\n",
      "Leeds\n"
     ]
    }
   ],
   "source": [
    "for value in my_dictionary.values():\n",
    "    print(value)"
   ]
  },
  {
   "cell_type": "code",
   "execution_count": 26,
   "metadata": {},
   "outputs": [
    {
     "name": "stdout",
     "output_type": "stream",
     "text": [
      "key value\n",
      "name Jen\n",
      "city Leeds\n"
     ]
    }
   ],
   "source": [
    "for key, value in my_dictionary.items():\n",
    "    print(key, value)"
   ]
  },
  {
   "cell_type": "markdown",
   "metadata": {},
   "source": [
    "# Dictionary Exercises\n",
    "\n",
    "Use this link to learn more about dictionaries:\n",
    "\n",
    "https://www.w3schools.com/python/python_dictionaries.asp"
   ]
  }
 ],
 "metadata": {
  "kernelspec": {
   "display_name": "Python 3",
   "language": "python",
   "name": "python3"
  },
  "language_info": {
   "codemirror_mode": {
    "name": "ipython",
    "version": 3
   },
   "file_extension": ".py",
   "mimetype": "text/x-python",
   "name": "python",
   "nbconvert_exporter": "python",
   "pygments_lexer": "ipython3",
   "version": "3.10.13"
  }
 },
 "nbformat": 4,
 "nbformat_minor": 2
}
