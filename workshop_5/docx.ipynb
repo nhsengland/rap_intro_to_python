{
 "cells": [
  {
   "cell_type": "markdown",
   "metadata": {},
   "source": [
    "# python-docx\n",
    "\n",
    "python-docx is a python package that will enable us to manipulate Microsoft Word documents, by creating and editing them.\n",
    "GitHub Codespaces will not properly show a .docx file (try opening one!), so if you would like to view any files you will need to download them and open them on your local machine. \n",
    "To download, simple right-click on the file and select \"Download\""
   ]
  },
  {
   "cell_type": "markdown",
   "metadata": {},
   "source": [
    "First, we need to install the python-docx package so we have access to all the . Normally this would be done in the terminal, but in the notebook we can do it like this."
   ]
  },
  {
   "cell_type": "code",
   "execution_count": 30,
   "metadata": {},
   "outputs": [
    {
     "name": "stdout",
     "output_type": "stream",
     "text": [
      "Requirement already satisfied: python-docx in /usr/local/python/3.10.13/lib/python3.10/site-packages (1.1.2)\n",
      "Requirement already satisfied: lxml>=3.1.0 in /usr/local/python/3.10.13/lib/python3.10/site-packages (from python-docx) (5.2.2)\n",
      "Requirement already satisfied: typing-extensions>=4.9.0 in /home/codespace/.local/lib/python3.10/site-packages (from python-docx) (4.12.2)\n",
      "\n",
      "\u001b[1m[\u001b[0m\u001b[34;49mnotice\u001b[0m\u001b[1;39;49m]\u001b[0m\u001b[39;49m A new release of pip is available: \u001b[0m\u001b[31;49m24.1.2\u001b[0m\u001b[39;49m -> \u001b[0m\u001b[32;49m24.2\u001b[0m\n",
      "\u001b[1m[\u001b[0m\u001b[34;49mnotice\u001b[0m\u001b[1;39;49m]\u001b[0m\u001b[39;49m To update, run: \u001b[0m\u001b[32;49mpip install --upgrade pip\u001b[0m\n",
      "Note: you may need to restart the kernel to use updated packages.\n"
     ]
    }
   ],
   "source": [
    "%pip install python-docx"
   ]
  },
  {
   "cell_type": "markdown",
   "metadata": {},
   "source": [
    "Then we need to import the libraries we are going to use. Despite installing python-docx, we only need to import docx (and only the Document class from that). OS is helpful for saving files and making sure folders exist."
   ]
  },
  {
   "cell_type": "code",
   "execution_count": 31,
   "metadata": {},
   "outputs": [],
   "source": [
    "from docx import Document\n",
    "from pyspark import sql\n",
    "import os"
   ]
  },
  {
   "cell_type": "markdown",
   "metadata": {},
   "source": [
    "Like in workshop 4, we will need to start up our own spark session."
   ]
  },
  {
   "cell_type": "code",
   "execution_count": 32,
   "metadata": {},
   "outputs": [],
   "source": [
    "spark = (sql.SparkSession\n",
    "    .builder\n",
    "    .appName(\"pyspark_intro\")\n",
    "    .getOrCreate()\n",
    ")"
   ]
  },
  {
   "cell_type": "markdown",
   "metadata": {},
   "source": [
    "# Creating a document\n",
    "\n",
    "To create a new Word document, we first need to create an instance of the `Document` class. This is what we imported above."
   ]
  },
  {
   "cell_type": "code",
   "execution_count": 33,
   "metadata": {},
   "outputs": [],
   "source": [
    "doc = Document()"
   ]
  },
  {
   "cell_type": "markdown",
   "metadata": {},
   "source": [
    "To add a title to the document, use the `add_heading` method."
   ]
  },
  {
   "cell_type": "code",
   "execution_count": 34,
   "metadata": {},
   "outputs": [
    {
     "data": {
      "text/plain": [
       "<docx.text.paragraph.Paragraph at 0x7c2258f09ae0>"
      ]
     },
     "execution_count": 34,
     "metadata": {},
     "output_type": "execute_result"
    }
   ],
   "source": [
    "doc.add_heading('Document Title', level=1)"
   ]
  },
  {
   "cell_type": "markdown",
   "metadata": {},
   "source": [
    "\n",
    "To add a paragraph to the document, use the `add_paragraph` method."
   ]
  },
  {
   "cell_type": "code",
   "execution_count": 35,
   "metadata": {},
   "outputs": [
    {
     "data": {
      "text/plain": [
       "<docx.text.paragraph.Paragraph at 0x7c2258f0b5e0>"
      ]
     },
     "execution_count": 35,
     "metadata": {},
     "output_type": "execute_result"
    }
   ],
   "source": [
    "doc.add_paragraph('This is the first paragraph in the document.')"
   ]
  },
  {
   "cell_type": "markdown",
   "metadata": {},
   "source": [
    "A run is a contiguous run of text with the same style. You can add multiple runs to a paragraph to apply different styles to different parts of the text."
   ]
  },
  {
   "cell_type": "code",
   "execution_count": 36,
   "metadata": {},
   "outputs": [],
   "source": [
    "# Add a paragraph with runs\n",
    "paragraph = doc.add_paragraph()\n",
    "run = paragraph.add_run('This is a run of text. ')\n",
    "run.bold = True\n",
    "run = paragraph.add_run('This is another run of text. ')\n",
    "run.italic = True"
   ]
  },
  {
   "cell_type": "markdown",
   "metadata": {},
   "source": [
    "You can add tables to your document using the `add_table` method."
   ]
  },
  {
   "cell_type": "code",
   "execution_count": 37,
   "metadata": {},
   "outputs": [],
   "source": [
    "table = doc.add_table(rows=2, cols=2)\n",
    "cell = table.cell(0, 0)\n",
    "cell.text = 'Cell 1,1'\n",
    "cell = table.cell(0, 1)\n",
    "cell.text = 'Cell 1,2'\n",
    "cell = table.cell(1, 0)\n",
    "cell.text = 'Cell 2,1'\n",
    "cell = table.cell(1, 1)\n",
    "cell.text = 'Cell 2,2'"
   ]
  },
  {
   "cell_type": "markdown",
   "metadata": {},
   "source": [
    "To save the document, use the `save` method. After running this cell, download and open the file."
   ]
  },
  {
   "cell_type": "code",
   "execution_count": 38,
   "metadata": {},
   "outputs": [],
   "source": [
    "doc.save('example.docx')"
   ]
  },
  {
   "cell_type": "markdown",
   "metadata": {},
   "source": [
    "# Accessing an existing document\n",
    "\n",
    "You can read an existing Word document by passing the file path to the `Document` class."
   ]
  },
  {
   "cell_type": "code",
   "execution_count": 39,
   "metadata": {},
   "outputs": [],
   "source": [
    "doc = Document('example.docx')"
   ]
  },
  {
   "cell_type": "markdown",
   "metadata": {},
   "source": [
    "You can access the paragraphs in a document using the `paragraphs` attribute."
   ]
  },
  {
   "cell_type": "code",
   "execution_count": 40,
   "metadata": {},
   "outputs": [
    {
     "name": "stdout",
     "output_type": "stream",
     "text": [
      "Document Title\n",
      "This is the first paragraph in the document.\n",
      "This is a run of text. This is another run of text. \n"
     ]
    }
   ],
   "source": [
    "for paragraph in doc.paragraphs:\n",
    "    print(paragraph.text)"
   ]
  },
  {
   "cell_type": "markdown",
   "metadata": {},
   "source": [
    "\n",
    "You can access the tables in a document using the `tables` attribute."
   ]
  },
  {
   "cell_type": "code",
   "execution_count": 41,
   "metadata": {},
   "outputs": [
    {
     "name": "stdout",
     "output_type": "stream",
     "text": [
      "Cell 1,1\n",
      "Cell 1,2\n",
      "Cell 2,1\n",
      "Cell 2,2\n"
     ]
    }
   ],
   "source": [
    "for table in doc.tables:\n",
    "    for row in table.rows:\n",
    "        for cell in row.cells:\n",
    "            print(cell.text)"
   ]
  },
  {
   "cell_type": "markdown",
   "metadata": {},
   "source": [
    "# Using a template and replacing values in it\n",
    "\n",
    "We can use an existing document, and replace placeholder values with our own variables.\n",
    "\n",
    "We first need to load in the file. Download and open it up so you can see the 'before'"
   ]
  },
  {
   "cell_type": "code",
   "execution_count": 42,
   "metadata": {},
   "outputs": [],
   "source": [
    "template_path = 'inputs/simple_template.docx'\n",
    "doc = Document(template_path)"
   ]
  },
  {
   "cell_type": "markdown",
   "metadata": {},
   "source": [
    "To replace text, we need to search through the paragraphs and runs in the document. The following two functions will do that, using a combination of for loops and if statements."
   ]
  },
  {
   "cell_type": "code",
   "execution_count": 43,
   "metadata": {},
   "outputs": [],
   "source": [
    "def replace_text_in_paragraph(paragraph, replacements):\n",
    "    \"\"\"\n",
    "    Replace text in a paragraph based on a dictionary of replacements.\n",
    "    \"\"\"\n",
    "    for old_text, new_text in replacements.items():\n",
    "        if old_text not in paragraph.text:\n",
    "            continue\n",
    "        for run in paragraph.runs:\n",
    "            if old_text in run.text:\n",
    "                run.text = run.text.replace(old_text, new_text)"
   ]
  },
  {
   "cell_type": "code",
   "execution_count": 44,
   "metadata": {},
   "outputs": [],
   "source": [
    "def replace_text_in_doc(doc, replacements):\n",
    "    \"\"\"\n",
    "    Replace text in the entire document based on a dictionary of replacements.\n",
    "    \"\"\"\n",
    "    for paragraph in doc.paragraphs:\n",
    "        replace_text_in_paragraph(paragraph, replacements)"
   ]
  },
  {
   "cell_type": "code",
   "execution_count": 45,
   "metadata": {},
   "outputs": [],
   "source": [
    "replacements = {\n",
    "    'NAME': 'John Doe',\n",
    "    'FAV_COLOUR': 'blue',\n",
    "    'COUNTRY': 'Canada'\n",
    "}\n",
    "\n",
    "# Replace text in the document\n",
    "replace_text_in_doc(doc, replacements)"
   ]
  },
  {
   "cell_type": "code",
   "execution_count": 46,
   "metadata": {},
   "outputs": [],
   "source": [
    "modified_doc_path = 'modified_template.docx'\n",
    "doc.save(modified_doc_path)"
   ]
  },
  {
   "cell_type": "markdown",
   "metadata": {},
   "source": [
    "# Using a csv to replace values and create multiple files\n",
    "\n",
    "We might want to import a csv of data and use the information in that to replace the placeholder values. This can be done with a few simple tweaks.\n",
    "\n",
    "First, we need to read in the data as a spark dataframe."
   ]
  },
  {
   "cell_type": "code",
   "execution_count": null,
   "metadata": {},
   "outputs": [],
   "source": [
    "path_to_data = \"inputs/data.csv\"\n",
    "spark_df = (spark.read\n",
    "    .option('header', 'true')\n",
    "    .csv(path_to_data)\n",
    ")\n",
    "\n",
    "spark_df.show()"
   ]
  },
  {
   "cell_type": "markdown",
   "metadata": {},
   "source": [
    "Then we need to create the functions to replace our placeholders with the data from the csv. These are very similar to the functions above, but are specifically written for taking in a df and creating multiple files, whereas before we were only dealing with one."
   ]
  },
  {
   "cell_type": "code",
   "execution_count": 47,
   "metadata": {},
   "outputs": [],
   "source": [
    "def replace_placeholder_in_paragraph(paragraph, placeholder, replacement_text):\n",
    "    # Iterate through runs in the paragraph\n",
    "    for run in paragraph.runs:\n",
    "        if placeholder in run.text:\n",
    "            # Replace placeholder with replacement text\n",
    "            run.text = run.text.replace(placeholder, replacement_text)\n"
   ]
  },
  {
   "cell_type": "code",
   "execution_count": 49,
   "metadata": {},
   "outputs": [],
   "source": [
    "def generate_documents_from_spark_df(spark_df, template_docx, output_folder, placeholder_mapping):\n",
    "    # Load the template document\n",
    "    doc = Document(template_docx)\n",
    "\n",
    "    # Collect the DataFrame rows into a list of dictionaries\n",
    "    rows = spark_df.collect()\n",
    "    \n",
    "    # Iterate through each row in the DataFrame\n",
    "    for row in rows:\n",
    "        # Replace placeholders with text\n",
    "        for para in doc.paragraphs:\n",
    "            for placeholder, replacement in placeholder_mapping.items():\n",
    "                replacement_text = str(row[replacement])\n",
    "                replace_placeholder_in_paragraph(para, placeholder, replacement_text)\n",
    "\n",
    "        # Ensure the output folder exists\n",
    "        os.makedirs(output_folder, exist_ok=True)\n",
    "        \n",
    "        # Save the modified document\n",
    "        output_file = os.path.join(output_folder, f\"{row['org_name']}_document.docx\")\n",
    "        doc.save(output_file)\n",
    "        print(f\"Saved: {output_file}\")"
   ]
  },
  {
   "cell_type": "markdown",
   "metadata": {},
   "source": [
    "Like before, this is a dictionary mapping the placeholder with the column with the matching data for each row"
   ]
  },
  {
   "cell_type": "code",
   "execution_count": 50,
   "metadata": {},
   "outputs": [],
   "source": [
    "placeholder_mapping = {\n",
    "    'ORGNAME': 'org_name',\n",
    "    'MONTH': 'month',\n",
    "    'YEAR': 'year',\n",
    "    'TOTAL_ATTENDANCE': 'total_attendance'\n",
    "}\n",
    "\n",
    "template_docx = 'inputs/template_document.docx'"
   ]
  },
  {
   "cell_type": "code",
   "execution_count": 51,
   "metadata": {},
   "outputs": [
    {
     "name": "stdout",
     "output_type": "stream",
     "text": [
      "Saved: output_folder/Leeds General Hospital_document.docx\n",
      "Saved: output_folder/York Infirmary_document.docx\n",
      "Saved: output_folder/Queen Mary Hospital_document.docx\n"
     ]
    }
   ],
   "source": [
    "generate_documents_from_spark_df(spark_df, template_docx, 'output_folder', placeholder_mapping)"
   ]
  }
 ],
 "metadata": {
  "kernelspec": {
   "display_name": "Python 3",
   "language": "python",
   "name": "python3"
  },
  "language_info": {
   "codemirror_mode": {
    "name": "ipython",
    "version": 3
   },
   "file_extension": ".py",
   "mimetype": "text/x-python",
   "name": "python",
   "nbconvert_exporter": "python",
   "pygments_lexer": "ipython3",
   "version": "3.10.13"
  }
 },
 "nbformat": 4,
 "nbformat_minor": 2
}
