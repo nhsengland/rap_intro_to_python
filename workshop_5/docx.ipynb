{
 "cells": [
  {
   "cell_type": "markdown",
   "metadata": {},
   "source": [
    "# python-docx\n",
    "\n",
    "python-docx is a python package that will enable us to manipulate Microsoft Word documents, by creating and editing them.\n",
    "GitHub Codespaces will not properly show a .docx file (try opening one!), so if you would like to view any files you will need to download them and open them on your local machine. \n",
    "To download, simple right-click on the file and select \"Download\""
   ]
  },
  {
   "cell_type": "code",
   "execution_count": 1,
   "metadata": {},
   "outputs": [
    {
     "name": "stdout",
     "output_type": "stream",
     "text": [
      "Collecting python-docx\n",
      "  Downloading python_docx-1.1.2-py3-none-any.whl.metadata (2.0 kB)\n",
      "Collecting lxml>=3.1.0 (from python-docx)\n",
      "  Downloading lxml-5.2.2-cp310-cp310-manylinux_2_28_x86_64.whl.metadata (3.4 kB)\n",
      "Requirement already satisfied: typing-extensions>=4.9.0 in /home/codespace/.local/lib/python3.10/site-packages (from python-docx) (4.12.2)\n",
      "Downloading python_docx-1.1.2-py3-none-any.whl (244 kB)\n",
      "\u001b[2K   \u001b[90m━━━━━━━━━━━━━━━━━━━━━━━━━━━━━━━━━━━━━━━━\u001b[0m \u001b[32m244.3/244.3 kB\u001b[0m \u001b[31m6.3 MB/s\u001b[0m eta \u001b[36m0:00:00\u001b[0mta \u001b[36m0:00:01\u001b[0m\n",
      "\u001b[?25hDownloading lxml-5.2.2-cp310-cp310-manylinux_2_28_x86_64.whl (5.0 MB)\n",
      "\u001b[2K   \u001b[90m━━━━━━━━━━━━━━━━━━━━━━━━━━━━━━━━━━━━━━━━\u001b[0m \u001b[32m5.0/5.0 MB\u001b[0m \u001b[31m31.4 MB/s\u001b[0m eta \u001b[36m0:00:00\u001b[0m00:01\u001b[0m00:01\u001b[0m\n",
      "\u001b[?25hInstalling collected packages: lxml, python-docx\n",
      "Successfully installed lxml-5.2.2 python-docx-1.1.2\n",
      "\n",
      "\u001b[1m[\u001b[0m\u001b[34;49mnotice\u001b[0m\u001b[1;39;49m]\u001b[0m\u001b[39;49m A new release of pip is available: \u001b[0m\u001b[31;49m24.1.2\u001b[0m\u001b[39;49m -> \u001b[0m\u001b[32;49m24.2\u001b[0m\n",
      "\u001b[1m[\u001b[0m\u001b[34;49mnotice\u001b[0m\u001b[1;39;49m]\u001b[0m\u001b[39;49m To update, run: \u001b[0m\u001b[32;49mpython -m pip install --upgrade pip\u001b[0m\n",
      "Note: you may need to restart the kernel to use updated packages.\n"
     ]
    }
   ],
   "source": [
    "%pip install python-docx"
   ]
  },
  {
   "cell_type": "code",
   "execution_count": 3,
   "metadata": {},
   "outputs": [
    {
     "name": "stdout",
     "output_type": "stream",
     "text": [
      "Document 'example.docx' created and saved.\n"
     ]
    }
   ],
   "source": [
    "from docx import Document\n",
    "\n",
    "# Create a new Document\n",
    "doc = Document()\n",
    "\n",
    "# Add a title\n",
    "doc.add_heading('Document Title', level=1)\n",
    "\n",
    "# Add a paragraph\n",
    "doc.add_paragraph('This is a paragraph in the document.')\n",
    "\n",
    "# Save the document\n",
    "doc.save('example.docx')\n",
    "\n",
    "print(\"Document 'example.docx' created and saved.\")"
   ]
  },
  {
   "cell_type": "code",
   "execution_count": 6,
   "metadata": {},
   "outputs": [
    {
     "name": "stdout",
     "output_type": "stream",
     "text": [
      "Document 'example_with_elements.docx' created and saved.\n"
     ]
    }
   ],
   "source": [
    "# Adding headings\n",
    "doc.add_heading('Heading Level 1', level=1)\n",
    "doc.add_heading('Heading Level 2', level=2)\n",
    "doc.add_heading('Heading Level 3', level=3)\n",
    "\n",
    "# Adding paragraphs with different styles\n",
    "doc.add_paragraph('This is a normal paragraph.')\n",
    "#doc.add_paragraph('This is an emphasized paragraph.', style='Emphasis')\n",
    "doc.add_paragraph('This is a quote.', style='Quote')\n",
    "\n",
    "# Adding a page break\n",
    "doc.add_page_break()\n",
    "\n",
    "# Save the document\n",
    "doc.save('example_with_elements.docx')\n",
    "\n",
    "print(\"Document 'example_with_elements.docx' created and saved.\")\n"
   ]
  },
  {
   "cell_type": "code",
   "execution_count": null,
   "metadata": {},
   "outputs": [],
   "source": [
    "from pyspark import sql\n",
    "\n",
    "spark = (sql.SparkSession\n",
    "    .builder\n",
    "    .appName(\"pyspark_intro\")\n",
    "    .getOrCreate()\n",
    ")\n",
    "\n",
    "path_to_data = \"data.csv\"\n",
    "df_hes = (spark.read\n",
    "    .option('header', 'true')\n",
    "    .csv(path_to_data)\n",
    ")"
   ]
  }
 ],
 "metadata": {
  "kernelspec": {
   "display_name": "Python 3",
   "language": "python",
   "name": "python3"
  },
  "language_info": {
   "codemirror_mode": {
    "name": "ipython",
    "version": 3
   },
   "file_extension": ".py",
   "mimetype": "text/x-python",
   "name": "python",
   "nbconvert_exporter": "python",
   "pygments_lexer": "ipython3",
   "version": "3.10.13"
  }
 },
 "nbformat": 4,
 "nbformat_minor": 2
}
