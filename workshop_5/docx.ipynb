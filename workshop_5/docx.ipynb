{
 "cells": [
  {
   "cell_type": "markdown",
   "metadata": {},
   "source": [
    "# python-docx\n",
    "\n",
    "python-docx is a python package that will enable us to manipulate Microsoft Word documents, by creating and editing them.\n",
    "GitHub Codespaces will not properly show a .docx file (try opening one!), so if you would like to view any files you will need to download them and open them on your local machine. \n",
    "To download, simple right-click on the file and select \"Download\""
   ]
  },
  {
   "cell_type": "code",
   "execution_count": null,
   "metadata": {},
   "outputs": [],
   "source": []
  }
 ],
 "metadata": {
  "language_info": {
   "name": "python"
  }
 },
 "nbformat": 4,
 "nbformat_minor": 2
}
