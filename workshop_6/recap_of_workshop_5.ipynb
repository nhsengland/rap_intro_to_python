{
 "cells": [
  {
   "cell_type": "markdown",
   "metadata": {},
   "source": [
    "# Recap of Workshop 5\n",
    "\n",
    "In this workshop, we covered two main topics:\n",
    "\n",
    "1. Dictionaries in Python\n",
    "2. Working with Word documents using `python-docx`\n"
   ]
  },
  {
   "cell_type": "markdown",
   "metadata": {},
   "source": [
    "## Dictionaries in Python\n",
    "\n",
    "A dictionary in Python is an ordered collection of items. Each item is a key-value pair, where each key is unique.\n",
    "\n",
    "### Creating a Dictionary\n",
    "You can create a dictionary by placing a comma-separated sequence of key-value pairs within curly braces `{}`, with a colon `:` separating keys and values."
   ]
  },
  {
   "cell_type": "code",
   "execution_count": null,
   "metadata": {},
   "outputs": [],
   "source": [
    "my_dictionary = {\"key\": \"value\"}"
   ]
  },
  {
   "cell_type": "markdown",
   "metadata": {},
   "source": [
    "They are very useful structures. In the data world, one common application is to hold config parameters, for example:"
   ]
  },
  {
   "cell_type": "code",
   "execution_count": null,
   "metadata": {},
   "outputs": [],
   "source": [
    "config = {\n",
    "    \"data_path\": \"/path/to/data\",\n",
    "    \"output_path\": \"/path/to/output\",\n",
    "    \"model_path\": \"/path/to/model\",\n",
    "    \"batch_size\": 32,\n",
    "    \"learning_rate\": 0.001,\n",
    "    \"num_epochs\": 10,\n",
    "    \"random_seed\": 42\n",
    "}"
   ]
  },
  {
   "cell_type": "markdown",
   "metadata": {},
   "source": [
    "### Accessing Dictionary Items\n",
    "You can access the items of a dictionary by referring to its key name, inside square brackets `[]`."
   ]
  },
  {
   "cell_type": "code",
   "execution_count": null,
   "metadata": {},
   "outputs": [],
   "source": [
    "print(config[\"batch_size\"])"
   ]
  },
  {
   "cell_type": "markdown",
   "metadata": {},
   "source": [
    "### Modifying Dictionary Items\n",
    "In an existing dictionary, you can update the value of a specific item by referring to its key."
   ]
  },
  {
   "cell_type": "code",
   "execution_count": null,
   "metadata": {},
   "outputs": [],
   "source": [
    "config[\"batch_size\"] = 16\n",
    "\n",
    "print(config)"
   ]
  },
  {
   "cell_type": "markdown",
   "metadata": {},
   "source": [
    "### Adding Items to a Dictionary\n",
    "You can add new items to a dictionary by using a new key and assigning a value to it."
   ]
  },
  {
   "cell_type": "code",
   "execution_count": null,
   "metadata": {},
   "outputs": [],
   "source": [
    "config[\"log_path\"] = \"/path/to/logs\"\n",
    "\n",
    "print(config)"
   ]
  },
  {
   "cell_type": "markdown",
   "metadata": {},
   "source": [
    "### Deleting from a Dictionary\n",
    "You can remove items from a dictionary using the `del` statement or the `pop()` method."
   ]
  },
  {
   "cell_type": "code",
   "execution_count": null,
   "metadata": {},
   "outputs": [],
   "source": [
    "del config[\"log_path\"]\n",
    "config.pop(\"output_path\")\n",
    "\n",
    "print(config)"
   ]
  },
  {
   "cell_type": "markdown",
   "metadata": {},
   "source": [
    "### Looping Through a Dictionary\n",
    "You can loop through a dictionary in several ways: keys, values, and key-value pairs."
   ]
  },
  {
   "cell_type": "code",
   "execution_count": null,
   "metadata": {},
   "outputs": [],
   "source": [
    "for key in config.keys():\n",
    "    print(key)"
   ]
  },
  {
   "cell_type": "code",
   "execution_count": null,
   "metadata": {},
   "outputs": [],
   "source": [
    "for value in config.values():\n",
    "    print(value)"
   ]
  },
  {
   "cell_type": "code",
   "execution_count": null,
   "metadata": {},
   "outputs": [],
   "source": [
    "for key, value in config.items():\n",
    "    print(key, \"=\", value)"
   ]
  },
  {
   "cell_type": "markdown",
   "metadata": {},
   "source": [
    "## Working with Word Documents using `python-docx`\n",
    "\n",
    "The `python-docx` library allows you to create and update Microsoft Word (.docx) files.\n",
    "\n",
    "### Installing `python-docx`\n",
    "To install the `python-docx` package, you can use the following command:"
   ]
  },
  {
   "cell_type": "code",
   "execution_count": null,
   "metadata": {},
   "outputs": [],
   "source": [
    "!pip install python-docx"
   ]
  },
  {
   "cell_type": "markdown",
   "metadata": {},
   "source": [
    "### Creating a Document\n",
    "To create a new Word document, you first need to create an instance of the `Document` class."
   ]
  },
  {
   "cell_type": "code",
   "execution_count": null,
   "metadata": {},
   "outputs": [],
   "source": [
    "from docx import Document\n",
    "\n",
    "doc = Document()"
   ]
  },
  {
   "cell_type": "markdown",
   "metadata": {},
   "source": [
    "### Adding Content to the Document\n",
    "\n",
    "The Document object has method we can use to modify our word file:\n",
    "\n",
    "#### Adding a Heading"
   ]
  },
  {
   "cell_type": "code",
   "execution_count": null,
   "metadata": {},
   "outputs": [],
   "source": [
    "doc.add_heading('Document Title', level=1)"
   ]
  },
  {
   "cell_type": "markdown",
   "metadata": {},
   "source": [
    "#### Adding a Paragraph"
   ]
  },
  {
   "cell_type": "code",
   "execution_count": null,
   "metadata": {},
   "outputs": [],
   "source": [
    "doc.add_paragraph('This is a paragraph.')"
   ]
  },
  {
   "cell_type": "markdown",
   "metadata": {},
   "source": [
    "### Saving the Document\n",
    "Then to save the file, we just use the `save` method."
   ]
  },
  {
   "cell_type": "code",
   "execution_count": null,
   "metadata": {},
   "outputs": [],
   "source": [
    "doc.save('word_docs/example.docx')"
   ]
  },
  {
   "cell_type": "markdown",
   "metadata": {},
   "source": [
    "### Replacing Text in a Document\n",
    "\n",
    "Sometimes you'll have a Word template for which you just need to update certain parts. For example in a monthly report you might just replace the dates and figures, and all the rest remains the same. \n",
    "\n",
    "With Python we can automate this!\n",
    "\n",
    "First let's load the file word_docs/gp_registrations_template.docx"
   ]
  },
  {
   "cell_type": "code",
   "execution_count": null,
   "metadata": {},
   "outputs": [],
   "source": [
    "gp_regs = Document('word_docs/gp_registrations_template.docx')"
   ]
  },
  {
   "cell_type": "markdown",
   "metadata": {},
   "source": [
    "To replace text, you first create a dictionary of the placeholders and what you want to replace them with:\n",
    "\n",
    "In this file, `<DATE>` and `<GP_REGISTRATIONS>` are the placeholders we want to replace:"
   ]
  },
  {
   "cell_type": "code",
   "execution_count": null,
   "metadata": {},
   "outputs": [],
   "source": [
    "replacements = {\n",
    "    \"<DATE>\": \"01 November 2024\",\n",
    "    \"<GP_REGISTRATIONS>\": \"63,669,331\"\n",
    "}"
   ]
  },
  {
   "cell_type": "markdown",
   "metadata": {},
   "source": [
    "Then use the functions below to do a find and replace:"
   ]
  },
  {
   "cell_type": "code",
   "execution_count": null,
   "metadata": {},
   "outputs": [],
   "source": [
    "def replace_text_in_paragraph(paragraph, replacements):\n",
    "    for old_text, new_text in replacements.items():\n",
    "        if old_text in paragraph.text:\n",
    "            for run in paragraph.runs:\n",
    "                if old_text in run.text:\n",
    "                    run.text = run.text.replace(old_text, new_text)\n",
    "\n",
    "def replace_text_in_doc(doc, replacements):\n",
    "    for paragraph in doc.paragraphs:\n",
    "        replace_text_in_paragraph(paragraph, replacements)\n",
    "\n",
    "\n",
    "replace_text_in_doc(gp_regs, replacements)"
   ]
  },
  {
   "cell_type": "markdown",
   "metadata": {},
   "source": [
    "Then save the updated file:"
   ]
  },
  {
   "cell_type": "code",
   "execution_count": null,
   "metadata": {},
   "outputs": [],
   "source": [
    "gp_regs.save('word_docs/gp_registrations_november.docx')"
   ]
  }
 ],
 "metadata": {
  "kernelspec": {
   "display_name": "Python 3",
   "language": "python",
   "name": "python3"
  },
  "language_info": {
   "codemirror_mode": {
    "name": "ipython",
    "version": 3
   },
   "file_extension": ".py",
   "mimetype": "text/x-python",
   "name": "python",
   "nbconvert_exporter": "python",
   "pygments_lexer": "ipython3",
   "version": "3.12.1"
  }
 },
 "nbformat": 4,
 "nbformat_minor": 2
}
