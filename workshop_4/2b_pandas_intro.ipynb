{
 "cells": [
  {
   "cell_type": "markdown",
   "metadata": {},
   "source": [
    "# Pandas\n",
    "\n",
    "Pandas is a powerful open-source Python library that provides flexible and efficient tools for working with structured data. We're going to use it to clean and transform data to get the outputs we want.\n",
    "\n",
    "# Install\n",
    "\n",
    "Pandas should already be installed on your environment. If it's not, you'll need to run the cell below to install it, which might take a few minutes."
   ]
  },
  {
   "cell_type": "code",
   "execution_count": null,
   "metadata": {},
   "outputs": [],
   "source": [
    "!pip install pandas"
   ]
  },
  {
   "cell_type": "markdown",
   "metadata": {},
   "source": [
    "# Import\n",
    "\n",
    "To use pandas and all the methods it has we need to import it to our environment. Run this cell first to check you have it installed, if not, run the one above."
   ]
  },
  {
   "cell_type": "code",
   "execution_count": null,
   "metadata": {},
   "outputs": [],
   "source": [
    "import pandas as pd\n",
    "\n",
    "# Check pandas version\n",
    "print(f\"Pandas version: {pd.__version__}\")"
   ]
  },
  {
   "cell_type": "markdown",
   "metadata": {},
   "source": [
    "# Create a dataframe\n",
    "\n",
    "First, we will need a dataframe to work with. The easiest thing to do is create our own!\n",
    "\n",
    "Here's how to manually create a pandas dataframe:"
   ]
  },
  {
   "cell_type": "code",
   "execution_count": null,
   "metadata": {},
   "outputs": [],
   "source": [
    "df = pd.DataFrame({\n",
    "    \"numbers\": [1, 2, 3],\n",
    "    \"letters\": [\"A\", \"B\", \"C\"],\n",
    "    \"fruits\": [\"apples\", \"bananas\", \"cherries\"]\n",
    "})"
   ]
  },
  {
   "cell_type": "markdown",
   "metadata": {},
   "source": [
    "Notebooks allow us to see the dataframe in a rich text format, all we need to do is run the variable."
   ]
  },
  {
   "cell_type": "code",
   "execution_count": null,
   "metadata": {},
   "outputs": [],
   "source": [
    "df"
   ]
  },
  {
   "cell_type": "markdown",
   "metadata": {},
   "source": [
    "Want to add a column? Easy."
   ]
  },
  {
   "cell_type": "code",
   "execution_count": null,
   "metadata": {},
   "outputs": [],
   "source": [
    "df[\"vegetables\"] = [\"artichokes\", \"brussel sprouts\", \"cabbages\"]\n",
    "df"
   ]
  },
  {
   "cell_type": "markdown",
   "metadata": {},
   "source": [
    "Remove a column? Also easy."
   ]
  },
  {
   "cell_type": "code",
   "execution_count": null,
   "metadata": {},
   "outputs": [],
   "source": [
    "df = df.drop(\"numbers\", axis=1) # axis is 0 (rows) by default\n",
    "df"
   ]
  },
  {
   "cell_type": "markdown",
   "metadata": {},
   "source": [
    "If we had many columns we could also select the columns we wanted to keep:"
   ]
  },
  {
   "cell_type": "code",
   "execution_count": null,
   "metadata": {},
   "outputs": [],
   "source": [
    "df = df[[\"fruits\", \"vegetables\"]] # Using the double square bracket\n",
    "df"
   ]
  },
  {
   "cell_type": "markdown",
   "metadata": {},
   "source": [
    "Let's import some data from elsewhere: use the `pd.read_csv()` method.\n",
    "\n",
    "What do you notice about the data?"
   ]
  },
  {
   "cell_type": "code",
   "execution_count": null,
   "metadata": {},
   "outputs": [],
   "source": [
    "file_path = \"pandas_data.csv\"\n",
    "data_df = pd.read_csv(file_path)\n",
    "data_df"
   ]
  },
  {
   "cell_type": "markdown",
   "metadata": {},
   "source": [
    "Hopefully you noticed the missing values! We will call these Nulls.\n",
    "\n",
    "Let's find out more about the dataframe using these methods:"
   ]
  },
  {
   "cell_type": "code",
   "execution_count": null,
   "metadata": {},
   "outputs": [],
   "source": [
    "data_df.info() # This tells us some info about the columns, their type and number of null values\n",
    "data_df.describe() # This tells us more statistical information about the dataframe"
   ]
  },
  {
   "cell_type": "markdown",
   "metadata": {},
   "source": [
    "Null values can cause a lot of trouble in our code, so we have to be careful how to handle them.\n",
    "\n",
    "For our purpose, let's bin them. "
   ]
  },
  {
   "cell_type": "code",
   "execution_count": null,
   "metadata": {},
   "outputs": [],
   "source": [
    "data_df = data_df.dropna() # This will drop any rows with a Null value\n",
    "data_df.info() # comparing to above, you can see they have been dropped."
   ]
  },
  {
   "cell_type": "markdown",
   "metadata": {},
   "source": [
    "# Duplicates"
   ]
  },
  {
   "cell_type": "markdown",
   "metadata": {},
   "source": [
    "We can't know unless we try, but we should remember when cleaning data that it is possible for some of it to be duplicated.\n",
    "\n",
    "We can look for duplicates, and then drop them."
   ]
  },
  {
   "cell_type": "code",
   "execution_count": null,
   "metadata": {},
   "outputs": [],
   "source": [
    "data_df.duplicated() # Prints out a boolean value if each row is duplicated or not"
   ]
  },
  {
   "cell_type": "code",
   "execution_count": null,
   "metadata": {},
   "outputs": [],
   "source": [
    "data_df = data_df.drop_duplicates() # This will drop any duplicate rows\n",
    "data_df.info()"
   ]
  },
  {
   "cell_type": "markdown",
   "metadata": {},
   "source": [
    "# Sort and filter dataframes\n",
    "\n",
    "We can sort and filter dataframes based on any condition:"
   ]
  },
  {
   "cell_type": "code",
   "execution_count": null,
   "metadata": {},
   "outputs": [],
   "source": [
    "data_df = data_df.sort_values(\"Age\", ascending=True) # ascending is True by default\n",
    "data_df"
   ]
  },
  {
   "cell_type": "code",
   "execution_count": null,
   "metadata": {},
   "outputs": [],
   "source": [
    "data_df = data_df[data_df[\"Age\"] >= 18] # Filtering for rows where the Age column is more than or equal to 18\n",
    "data_df"
   ]
  },
  {
   "cell_type": "markdown",
   "metadata": {},
   "source": [
    "We can filter for multiple things at once, and sort at the end, watch the brackets:"
   ]
  },
  {
   "cell_type": "code",
   "execution_count": null,
   "metadata": {},
   "outputs": [],
   "source": [
    "data_df = data_df[(data_df[\"Age\"] >= 18) & (data_df[\"Mass\"] >= 60) & (data_df[\"Sex\"].isin([1, 0]))].sort_values(\"Mass\")\n",
    "data_df"
   ]
  },
  {
   "cell_type": "markdown",
   "metadata": {},
   "source": [
    "# Grouping\n",
    "\n",
    "Below, we are grouping on the \"Sex\" column, to find out how many instances there are of each value.\n",
    "\n",
    "We then reset the index and rename the count column."
   ]
  },
  {
   "cell_type": "code",
   "execution_count": null,
   "metadata": {},
   "outputs": [],
   "source": [
    "grouped_data_df = data_df.groupby([\"Sex\"]).size().reset_index(name=\"Count\")\n",
    "grouped_data_df"
   ]
  },
  {
   "cell_type": "markdown",
   "metadata": {},
   "source": [
    "# Joining\n",
    "\n",
    "Sometimes we might need to join dataframe together, for example to get the exact names of trusts basd off of their codes.\n",
    "\n",
    "Here there is another dataframe with the code of 0 and 1 to indicate Male and Female. We'll join it onto the data_df we have been working with.\n",
    "\n",
    "Joining dataframes together is simple, we just need to pick which columns to merge on."
   ]
  },
  {
   "cell_type": "code",
   "execution_count": null,
   "metadata": {},
   "outputs": [],
   "source": [
    "sex_indicator_df = pd.DataFrame({\n",
    "    \"code\": [0, 1],\n",
    "    \"sex\": [\"Male\", \"Female\"]\n",
    "})\n",
    "\n",
    "sex_indicator_df"
   ]
  },
  {
   "cell_type": "code",
   "execution_count": null,
   "metadata": {},
   "outputs": [],
   "source": [
    "joined_df = pd.merge(data_df, sex_indicator_df, left_on='Sex', right_on='code', how='inner')\n",
    "joined_df"
   ]
  },
  {
   "cell_type": "markdown",
   "metadata": {},
   "source": [
    "And now we can drop any columns we don't want anymore!"
   ]
  },
  {
   "cell_type": "code",
   "execution_count": null,
   "metadata": {},
   "outputs": [],
   "source": [
    "joined_df = joined_df.drop(['Sex', 'code'], axis=1)\n",
    "joined_df"
   ]
  },
  {
   "cell_type": "markdown",
   "metadata": {},
   "source": [
    "# Graphs\n",
    "\n",
    "Pandas dataframes allows us to make some quick and dirty graphs! We'll use a library called `matplotlib.pyplot` to help us. \n",
    "\n"
   ]
  },
  {
   "cell_type": "code",
   "execution_count": null,
   "metadata": {},
   "outputs": [],
   "source": [
    "joined_df.plot(x='Mass', y='Age', kind='bar', title='Age vs Mass')"
   ]
  }
 ],
 "metadata": {
  "kernelspec": {
   "display_name": "Python 3",
   "language": "python",
   "name": "python3"
  },
  "language_info": {
   "codemirror_mode": {
    "name": "ipython",
    "version": 3
   },
   "file_extension": ".py",
   "mimetype": "text/x-python",
   "name": "python",
   "nbconvert_exporter": "python",
   "pygments_lexer": "ipython3",
   "version": "3.12.1"
  }
 },
 "nbformat": 4,
 "nbformat_minor": 2
}
