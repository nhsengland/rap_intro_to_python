{
 "cells": [
  {
   "cell_type": "markdown",
   "metadata": {},
   "source": [
    "# Functions\n",
    "\n",
    "In the last workshop, we learnt about functions - a very useful programming concept.\n",
    "\n",
    "Functions are little chunks of code we put to one side, that we can use whenever we need to.\n",
    "\n",
    "When we make that little chunk of code, we say we are \"defining\" the function.\n",
    "\n",
    "When we use that code, we say we are \"calling\" the function."
   ]
  },
  {
   "cell_type": "markdown",
   "metadata": {},
   "source": [
    "## Defining a function\n",
    "\n",
    "Have a look at the example below. Hopefully this rings some bells from the last session!"
   ]
  },
  {
   "cell_type": "code",
   "execution_count": 1,
   "metadata": {},
   "outputs": [],
   "source": [
    "def suppress_number(valuein):\n",
    "    \"\"\"\n",
    "    Suppresses and rounds values using the central suppression method.\n",
    "\n",
    "    If value is 0 then it will remain as 0.\n",
    "    If value is 1-7 it will be suppressed and appear as 5.\n",
    "    All other values will be rounded to the nearest 5.\n",
    "\n",
    "    Parameters\n",
    "    ----------\n",
    "    valuein : int\n",
    "        Metric value\n",
    "\n",
    "    Returns\n",
    "    -------\n",
    "    valueout : int\n",
    "        Suppressed and rounded value\n",
    "\n",
    "    Examples\n",
    "    --------\n",
    "    >>> suppress_number(3)\n",
    "    5\n",
    "    >>> suppress_number(24)\n",
    "    25\n",
    "    >>> suppress_number(0)\n",
    "    '0'\n",
    "    \"\"\"\n",
    "    if valuein < 0:\n",
    "        valueout = valuein\n",
    "    elif valuein == 0:\n",
    "        valueout = 0\n",
    "    elif valuein >= 1 and valuein <= 7:\n",
    "        valueout = 5\n",
    "    elif valuein > 7:\n",
    "        valueout = 5 * round(valuein / 5)\n",
    "\n",
    "    return valueout"
   ]
  },
  {
   "cell_type": "code",
   "execution_count": 3,
   "metadata": {},
   "outputs": [
    {
     "data": {
      "text/plain": [
       "30"
      ]
     },
     "execution_count": 3,
     "metadata": {},
     "output_type": "execute_result"
    }
   ],
   "source": [
    "suppress_number (31)"
   ]
  },
  {
   "cell_type": "markdown",
   "metadata": {},
   "source": [
    "You see the main steps here. On the first line:\n",
    "\n",
    "- The `def` keyword indicates we're making a function\n",
    "- We give it a name\n",
    "- We define the input parameters in brackets\n",
    "- Don't forget the colon on the end of the line!\n",
    "\n",
    "Everything on the lines below that is indented is part of the function.\n",
    "\n",
    "- First comes the docstring - some information for people using your function to help them understand the code.\n",
    "- Then comes the code itself\n",
    "- Then we have the `return` command, which is how we get outputs like numbers, text, data, or anything else out of the function\n",
    "\n",
    "This function takes a number as in input and returns the suppressed/rounded number as its output."
   ]
  },
  {
   "cell_type": "markdown",
   "metadata": {},
   "source": [
    "## Calling a function\n",
    "\n",
    "If we want to use this function, here's how we do it:"
   ]
  },
  {
   "cell_type": "code",
   "execution_count": 5,
   "metadata": {},
   "outputs": [],
   "source": [
    "suppressed_number = suppress_number(23)"
   ]
  },
  {
   "cell_type": "markdown",
   "metadata": {},
   "source": [
    "We just invoke the function's name, and pass it an input in brackets. Easy as that!\n",
    "\n",
    "Anything that we returned from the function will now be stored in the suppressed_number variable.\n",
    "\n",
    "Let's see what happens when we print that:"
   ]
  },
  {
   "cell_type": "code",
   "execution_count": 6,
   "metadata": {},
   "outputs": [
    {
     "name": "stdout",
     "output_type": "stream",
     "text": [
      "25\n"
     ]
    }
   ],
   "source": [
    "print(suppressed_number)"
   ]
  },
  {
   "cell_type": "markdown",
   "metadata": {},
   "source": [
    "# Importing Files"
   ]
  },
  {
   "cell_type": "markdown",
   "metadata": {},
   "source": [
    "Sometimes we want to use some code that's in a different file to the one we're working on. For example, maybe we want to call a function that was defined in a different file.\n",
    "\n",
    "To do this, we need to import the file.\n",
    "\n",
    "Look at this:"
   ]
  },
  {
   "cell_type": "code",
   "execution_count": null,
   "metadata": {},
   "outputs": [],
   "source": [
    "from src.processing import aggregations"
   ]
  },
  {
   "cell_type": "markdown",
   "metadata": {},
   "source": [
    "The bit after the `from` is actually a directory path. It's saying from src/processing import a file called aggregations.py\n",
    "\n",
    "Once imported, we can call the functions in the file - we just need to let Python know which file we want it to look in. For example if there was a function called `calculate_regional_breakdowns()` in that file, we could call it like this:"
   ]
  },
  {
   "cell_type": "code",
   "execution_count": null,
   "metadata": {},
   "outputs": [],
   "source": [
    "aggregations.calculate_regional_breakdowns()"
   ]
  }
 ],
 "metadata": {
  "kernelspec": {
   "display_name": "Python 3",
   "language": "python",
   "name": "python3"
  },
  "language_info": {
   "codemirror_mode": {
    "name": "ipython",
    "version": 3
   },
   "file_extension": ".py",
   "mimetype": "text/x-python",
   "name": "python",
   "nbconvert_exporter": "python",
   "pygments_lexer": "ipython3",
   "version": "3.12.1"
  }
 },
 "nbformat": 4,
 "nbformat_minor": 2
}
