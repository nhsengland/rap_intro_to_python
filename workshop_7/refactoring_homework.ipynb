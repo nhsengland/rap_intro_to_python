{
 "cells": [
  {
   "cell_type": "markdown",
   "metadata": {},
   "source": [
    "# Now you give it a try!\n",
    "\n",
    "When refactoring, remember the most important thing is the output stays the same. The function below is perfectly functioning, but it's unclear, hard to read and understand and your colleagues will be really annoyed if you hand it over to them.\n",
    "\n",
    "Refactor it, ensuring you get the same output each time (in practice, unit tests are great for this!).\n",
    "\n",
    "There's no right or wrong way to refactor, but consider how you could make it clearer, easier to understand and streamline and logic.\n",
    "\n",
    "Consider what it does, and if that's the best way of doing it."
   ]
  },
  {
   "cell_type": "code",
   "execution_count": 1,
   "metadata": {},
   "outputs": [
    {
     "name": "stdout",
     "output_type": "stream",
     "text": [
      "Suppressed nums: [0, 0, 5, 10, 15, 20]\n"
     ]
    }
   ],
   "source": [
    "def suppress(vals):\n",
    "    r=[]\n",
    "    for x in vals:\n",
    "        if x<0:\n",
    "            a=5\n",
    "            r.append(0)\n",
    "        elif x>=0 and x<5:\n",
    "            r.append(0)\n",
    "        elif x>=5 and x<7:\n",
    "            r.append(5)\n",
    "        else:\n",
    "            y=x/5\n",
    "            z=round(y)\n",
    "            r.append(z*5)\n",
    "    return r\n",
    "\n",
    "# Test usage (pre-refactoring)\n",
    "stuff = [-3, 2, 6, 11, 13, 20]\n",
    "output = suppress(stuff)\n",
    "print(\"Suppressed nums:\", output)"
   ]
  },
  {
   "cell_type": "markdown",
   "metadata": {},
   "source": [
    "Refactor the code below, ensuring you are not changing the outputs."
   ]
  },
  {
   "cell_type": "code",
   "execution_count": 4,
   "metadata": {},
   "outputs": [
    {
     "name": "stdout",
     "output_type": "stream",
     "text": [
      "Suppressed nums: [0, 0, 5, 10, 15, 20]\n"
     ]
    }
   ],
   "source": [
    "# Refactor me!\n",
    "def suppress(vals):\n",
    "    \"\"\"\n",
    "    Suppresses values less than 5 and rounds all other values to the nearest 5\n",
    "\n",
    "    Args:\n",
    "    vals (list) - a list of integer values\n",
    "\n",
    "    Returns:\n",
    "    int (list) - a list of suppressed and rounded values\n",
    "\n",
    "    Example:\n",
    "    >>>suppress([-3, 2, 6, 11, 13, 20])\n",
    "    [0, 0, 5, 10, 15, 20]\n",
    "    \"\"\"\n",
    "    r=[]\n",
    "    for x in vals:\n",
    "        if x<5:\n",
    "            r.append(0)\n",
    "        elif x>=5 and x<7:\n",
    "            r.append(5)\n",
    "        else:\n",
    "            y=x/5\n",
    "            z=round(y)\n",
    "            r.append(z*5)\n",
    "    return r\n",
    "\n",
    "# Test usage (post-refactoring)\n",
    "stuff = [-3, 2, 6, 11, 13, 20]\n",
    "output = suppress(stuff)\n",
    "print(\"Suppressed nums:\", output)"
   ]
  }
 ],
 "metadata": {
  "kernelspec": {
   "display_name": "Python 3",
   "language": "python",
   "name": "python3"
  },
  "language_info": {
   "codemirror_mode": {
    "name": "ipython",
    "version": 3
   },
   "file_extension": ".py",
   "mimetype": "text/x-python",
   "name": "python",
   "nbconvert_exporter": "python",
   "pygments_lexer": "ipython3",
   "version": "3.12.1"
  }
 },
 "nbformat": 4,
 "nbformat_minor": 2
}
