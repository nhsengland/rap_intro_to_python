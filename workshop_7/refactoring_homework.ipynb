{
 "cells": [
  {
   "cell_type": "markdown",
   "metadata": {},
   "source": [
    "# Now you give it a try!\n",
    "\n",
    "When refactoring, remember the most important thing is the output stays the same. The function below is perfectly functioning, but it's unclear, hard to read and understand and your colleagues will be really annoyed if you hand it over to them.\n",
    "\n",
    "Refactor it, ensuring you get the same output each time (in practice, unit tests are great for this!).\n",
    "\n",
    "There's no right or wrong way to refactor, but consider how you could make it clearer, easier to understand and streamline and logic.\n",
    "\n",
    "Consider what it does, and if that's the best way of doing it."
   ]
  },
  {
   "cell_type": "code",
   "execution_count": 1,
   "metadata": {},
   "outputs": [
    {
     "name": "stdout",
     "output_type": "stream",
     "text": [
      "Suppressed nums: [0, 0, 5, 10, 15, 20]\n"
     ]
    }
   ],
   "source": [
    "def suppress(vals):\n",
    "    r=[]\n",
    "    for x in vals:\n",
    "        if x<0:\n",
    "            a=5\n",
    "            r.append(0)\n",
    "        elif x>=0 and x<5:\n",
    "            r.append(0)\n",
    "        elif x>=5 and x<7:\n",
    "            r.append(5)\n",
    "        else:\n",
    "            y=x/5\n",
    "            z=round(y)\n",
    "            r.append(z*5)\n",
    "    return r\n",
    "\n",
    "# Test usage (pre-refactoring)\n",
    "stuff = [-3, 2, 6, 11, 13, 20]\n",
    "output = suppress(stuff)\n",
    "print(\"Suppressed nums:\", output)"
   ]
  },
  {
   "cell_type": "markdown",
   "metadata": {},
   "source": [
    "Refactor the code below, ensuring you are not changing the outputs."
   ]
  },
  {
   "cell_type": "code",
   "execution_count": 3,
   "metadata": {},
   "outputs": [
    {
     "name": "stdout",
     "output_type": "stream",
     "text": [
      "Suppressed nums: [0, 0, 5, 10, 15, 20]\n"
     ]
    }
   ],
   "source": [
    "# Refactor me!\n",
    "def suppress(vals):\n",
    "    r=[]\n",
    "    for x in vals:   \n",
    "        if x<5:\n",
    "            r.append(0)\n",
    "        else:\n",
    "            r.append(round(x/5)*5)\n",
    "    return r\n",
    "\n",
    "# Test usage (post-refactoring)\n",
    "stuff = [-3, 2, 6, 11, 13, 20]\n",
    "output = suppress(stuff)\n",
    "print(\"Suppressed nums:\", output)\n",
    "\n",
    "#This works fine but my attempt to write a cleverer function and then unit test it (below) didn't work!"
   ]
  },
  {
   "cell_type": "code",
   "execution_count": 9,
   "metadata": {},
   "outputs": [
    {
     "name": "stdout",
     "output_type": "stream",
     "text": [
      "Overwriting suppress2.py\n"
     ]
    }
   ],
   "source": [
    "%%writefile suppress2.py\n",
    "\n",
    "def suppress2(vals):\n",
    "    if isinstance(vals, (str, dict, tuple)):\n",
    "        print(\"Error: input must be a list\")\n",
    "        return None\n",
    "\n",
    "    r=[]\n",
    "    for x in vals:\n",
    "        if isinstance(vals, (str, dict, tuple)):\n",
    "            print(\"Not a number\")\n",
    "            return None\n",
    "        elif x<5:\n",
    "            r.append(0)\n",
    "        else:\n",
    "            r.append(round(x/5)*5)\n",
    "    return r"
   ]
  },
  {
   "cell_type": "code",
   "execution_count": 11,
   "metadata": {},
   "outputs": [
    {
     "name": "stdout",
     "output_type": "stream",
     "text": [
      "Overwriting test_suppress2.py\n"
     ]
    }
   ],
   "source": [
    "%%writefile test_suppress2.py\n",
    "\n",
    "from suppress2.py import suppress2\n",
    "\n",
    "def test_suppress2_int():\n",
    "    #Testing for expected behaviour with integer\n",
    "    #Arrange\n",
    "    vals = 4\n",
    "\n",
    "    expected = None\n",
    "\n",
    "    #Act\n",
    "    actual = suppress2(4)\n",
    "\n",
    "    #Assert\n",
    "    assert actual == expected, f\"Expected {expected} but got {actual}\"\n",
    "    \n",
    "def test_suppress2_float():\n",
    "    #Testing for expected behaviour with float\n",
    "    #Arrange\n",
    "    vals = 4.5\n",
    "\n",
    "    expected = None\n",
    "\n",
    "    #Act\n",
    "    actual = suppress2(4.5)\n",
    "\n",
    "    #Assert\n",
    "    assert actual == expected, f\"Expected {expected} but got {actual}\"\n",
    "    \n",
    "def test_suppress2_str():\n",
    "    #Testing for expected behaviour with string\n",
    "    #Arrange\n",
    "    vals = \"Hello\"\n",
    "\n",
    "    expected = None\n",
    "\n",
    "    #Act\n",
    "    actual = suppress2(\"Hello\")\n",
    "\n",
    "    #Assert\n",
    "    assert actual == expected, f\"Expected {expected} but got {actual}\"\n",
    "\n",
    "def test_suppress2_list_str():\n",
    "    #Testing for expected behaviour with string value inside list\n",
    "    #Arrange\n",
    "    vals = [7, 0, -1.5, \"Hello\"]\n",
    "\n",
    "    expected = [5, 0, 0, \"Not a number\"]\n",
    "\n",
    "    #Act\n",
    "    actual = suppress2([7, 0, -1.5, \"Hello\"])\n",
    "\n",
    "    #Assert\n",
    "    assert actual == expected, f\"Expected {expected} but got {actual}\"\n",
    "\n",
    "def test_suppress2_list_nums():\n",
    "    #Testing for expected behaviour with list of numbers\n",
    "    #Arrange\n",
    "    vals = [-3, -0.5, 2, 8.4]\n",
    "\n",
    "    expected = [0, 0, 0, 10]\n",
    "\n",
    "    #Act\n",
    "    actual = suppress2([-3, -0.5, 2, 8.4])\n",
    "\n",
    "    #Assert\n",
    "    assert actual == expected, f\"Expected {expected} but got {actual}\""
   ]
  },
  {
   "cell_type": "code",
   "execution_count": 12,
   "metadata": {},
   "outputs": [
    {
     "name": "stdout",
     "output_type": "stream",
     "text": [
      "\u001b[1m============================= test session starts ==============================\u001b[0m\n",
      "platform linux -- Python 3.12.1, pytest-8.3.3, pluggy-1.5.0\n",
      "rootdir: /workspaces/rap_intro_to_python/workshop_7\n",
      "plugins: anyio-4.6.0\n",
      "collected 0 items / 1 error                                                    \u001b[0m\n",
      "\n",
      "==================================== ERRORS ====================================\n",
      "\u001b[31m\u001b[1m______________________ ERROR collecting test_suppress2.py ______________________\u001b[0m\n",
      "\u001b[31mImportError while importing test module '/workspaces/rap_intro_to_python/workshop_7/test_suppress2.py'.\n",
      "Hint: make sure your test modules/packages have valid Python names.\n",
      "Traceback:\n",
      "\u001b[1m\u001b[31m/usr/local/python/3.12.1/lib/python3.12/importlib/__init__.py\u001b[0m:90: in import_module\n",
      "    \u001b[0m\u001b[94mreturn\u001b[39;49;00m _bootstrap._gcd_import(name[level:], package, level)\u001b[90m\u001b[39;49;00m\n",
      "\u001b[1m\u001b[31mtest_suppress2.py\u001b[0m:2: in <module>\n",
      "    \u001b[0m\u001b[94mfrom\u001b[39;49;00m \u001b[04m\u001b[96msuppress2\u001b[39;49;00m\u001b[04m\u001b[96m.\u001b[39;49;00m\u001b[04m\u001b[96mpy\u001b[39;49;00m \u001b[94mimport\u001b[39;49;00m suppress2\u001b[90m\u001b[39;49;00m\n",
      "\u001b[1m\u001b[31mE   ModuleNotFoundError: No module named 'suppress2.py'; 'suppress2' is not a package\u001b[0m\u001b[0m\n",
      "\u001b[36m\u001b[1m=========================== short test summary info ============================\u001b[0m\n",
      "\u001b[31mERROR\u001b[0m test_suppress2.py\n",
      "!!!!!!!!!!!!!!!!!!!! Interrupted: 1 error during collection !!!!!!!!!!!!!!!!!!!!\n",
      "\u001b[31m=============================== \u001b[31m\u001b[1m1 error\u001b[0m\u001b[31m in 0.22s\u001b[0m\u001b[31m ===============================\u001b[0m\n"
     ]
    }
   ],
   "source": [
    "!pytest test_suppress2.py"
   ]
  }
 ],
 "metadata": {
  "kernelspec": {
   "display_name": "Python 3",
   "language": "python",
   "name": "python3"
  },
  "language_info": {
   "codemirror_mode": {
    "name": "ipython",
    "version": 3
   },
   "file_extension": ".py",
   "mimetype": "text/x-python",
   "name": "python",
   "nbconvert_exporter": "python",
   "pygments_lexer": "ipython3",
   "version": "3.12.1"
  }
 },
 "nbformat": 4,
 "nbformat_minor": 2
}
