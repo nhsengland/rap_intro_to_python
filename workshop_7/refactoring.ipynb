{
 "cells": [
  {
   "cell_type": "markdown",
   "metadata": {},
   "source": [
    "# Refactoring\n",
    "\n",
    "In code development, refactoring is the act of changing the exisiting body of code without changing the output. This is another reason why having unit tests is important- you want to make sure you haven't changed what the function does.\n",
    "\n",
    "Refactoring has a number of benefits:\n",
    "\n",
    "- Readability\n",
    "- Quicker on boarding new team members\n",
    "- Improved performance\n",
    "- Easier to modify in the future\n"
   ]
  },
  {
   "cell_type": "markdown",
   "metadata": {},
   "source": [
    "### Use clear variable and function names, comments, and doc strings\n",
    "\n",
    "Look at the function below: what does it do? What are and b? How would you use this function? Take a guess. "
   ]
  },
  {
   "cell_type": "code",
   "execution_count": 2,
   "metadata": {},
   "outputs": [],
   "source": [
    "def do_task(a, b):\n",
    "    c = []\n",
    "    for x in a:\n",
    "        if x in b:\n",
    "            c.append(x)\n",
    "    return c"
   ]
  },
  {
   "cell_type": "markdown",
   "metadata": {},
   "source": [
    "<details>\n",
    "<summary>Stuck on what this does?</summary>\n",
    "\n",
    "This is a function that takes two lists (a and b) and returns another list (c) which has the common elements of both!\n",
    "\n",
    "</details>"
   ]
  },
  {
   "cell_type": "markdown",
   "metadata": {},
   "source": [
    "Let's refactor this code together, making it more obvious what the function does by changing the name of the function, and the variables inside it."
   ]
  },
  {
   "cell_type": "code",
   "execution_count": 3,
   "metadata": {},
   "outputs": [],
   "source": [
    "# Refactor me!\n",
    "def do_task(a, b):\n",
    "    c = []\n",
    "    for x in a:\n",
    "        if x in b:\n",
    "            c.append(x)\n",
    "    return c"
   ]
  },
  {
   "cell_type": "markdown",
   "metadata": {},
   "source": [
    "<details>\n",
    "<summary>Stuck on refactoring?</summary>\n",
    "\n",
    "Here we have:\n",
    "\n",
    "- Renamed the function to something clear\n",
    "- Renamed the input parameters to make them more clear\n",
    "- Given it a docstring, describing the function and what it returns\n",
    "- Renamed the returned variable\n",
    "\n",
    "```python\n",
    "def find_common_elements(list1, list2):\n",
    "    \"\"\"\n",
    "    Finds and returns a list of elements that are present in both input lists.\n",
    "\n",
    "    Args:\n",
    "        list1 (list): The first list of elements.\n",
    "        list2 (list): The second list of elements.\n",
    "\n",
    "    Returns:\n",
    "        list: A list containing elements that are common to both `list1` and `list2`.\n",
    "\n",
    "    Example:\n",
    "        >>> find_common_elements([1, 2, 3], [2, 3, 4])\n",
    "        [2, 3]\n",
    "    \"\"\"\n",
    "\n",
    "    common_elements = []\n",
    "\n",
    "    for element in list1:\n",
    "        if element in list2:\n",
    "            common_elements.append(element)\n",
    "\n",
    "    return common_elements\n",
    "```\n",
    "\n",
    "</details>"
   ]
  },
  {
   "cell_type": "markdown",
   "metadata": {},
   "source": [
    "### Look for code that is being repeated, and see if you can change that\n",
    "\n",
    "The variable names in this function below look pretty clear, but there's a lot going on.\n",
    "\n",
    "How could you refactor this to repeat things less."
   ]
  },
  {
   "cell_type": "code",
   "execution_count": 4,
   "metadata": {},
   "outputs": [],
   "source": [
    "def calculate_total_price(price1, price2, price3, price4, price5):\n",
    "    total1 = price1 + (price1 * 0.2)\n",
    "    total2 = price2 + (price2 * 0.2)\n",
    "    total3 = price3 + (price3 * 0.2)\n",
    "    total4 = price4 + (price4 * 0.2)\n",
    "    total5 = price5 + (price5 * 0.2)\n",
    "    \n",
    "    grand_total = total1 + total2 + total3 + total4 + total5\n",
    "    return grand_total\n"
   ]
  },
  {
   "cell_type": "code",
   "execution_count": null,
   "metadata": {},
   "outputs": [],
   "source": [
    "# Using the function\n",
    "price1 = 4.50\n",
    "price2 = 4.80\n",
    "price3 = 5.00\n",
    "price4 = 1.20\n",
    "price5 = 6.30\n",
    "grand_total = calculate_total_price(price1, price2, price3, price4, price5)\n",
    "print(f\"The grand total including tax is: £{grand_total}\")"
   ]
  },
  {
   "cell_type": "markdown",
   "metadata": {},
   "source": [
    "This function works fine, but consider how your inputs might change. What if you have less than 5 prices, or more than five? What if your tax is no longer 20%, that's a lot of numbers to change."
   ]
  },
  {
   "cell_type": "code",
   "execution_count": 6,
   "metadata": {},
   "outputs": [],
   "source": [
    "# Refactor me!\n",
    "def calculate_total_price(price1, price2, price3, price4, price5):\n",
    "    total1 = price1 + (price1 * 0.2)\n",
    "    total2 = price2 + (price2 * 0.2)\n",
    "    total3 = price3 + (price3 * 0.2)\n",
    "    total4 = price4 + (price4 * 0.2)\n",
    "    total5 = price5 + (price5 * 0.2)\n",
    "    \n",
    "    grand_total = total1 + total2 + total3 + total4 + total5\n",
    "    return grand_total\n"
   ]
  },
  {
   "cell_type": "markdown",
   "metadata": {},
   "source": [
    "<details>\n",
    "<summary>Stuck on refactoring?</summary>\n",
    "\n",
    "Here we have:\n",
    "\n",
    "- Changed the input parameters from many individual varaibles to one list of variables plus a constant rate\n",
    "- Defined these in the doc string\n",
    "- Now use a loop to iterate through a list (of any length) and adding it to a total variable\n",
    "- These changes make it more flexible and scalable\n",
    "\n",
    "\n",
    "```python\n",
    "def calculate_total_price(prices, tax_rate):\n",
    "    \"\"\"\n",
    "    Calculates the total price of items, including tax, for a list of prices.\n",
    "\n",
    "    Args:\n",
    "        prices (list): A list of item prices.\n",
    "        tax_rate (float): The tax rate to be applied to each price (e.g., 0.08 for 8%).\n",
    "\n",
    "    Returns:\n",
    "        float: The total price including tax for all items in the list.\n",
    "\n",
    "    Example:\n",
    "        >>> prices = [10, 20, 30]\n",
    "        >>> tax_rate = 0.08\n",
    "        >>> calculate_total_price(prices, tax_rate)\n",
    "        72.0\n",
    "    \"\"\"\n",
    "    total = 0\n",
    "    for price in prices:\n",
    "        total += price + (price * tax_rate)\n",
    "    \n",
    "    return total\n",
    "```\n",
    "\n",
    "</details>"
   ]
  },
  {
   "cell_type": "markdown",
   "metadata": {},
   "source": [
    "### See if you can optimise the time your code is taking. \n",
    "\n",
    "Some of this will come with knowledge of which in built functions are faster than others, like using a list comprehension is faster than using .append()\n",
    "\n",
    "Some of this can come from understanding what your functions are doing, and what you *want* them to be doing."
   ]
  },
  {
   "cell_type": "code",
   "execution_count": 7,
   "metadata": {},
   "outputs": [],
   "source": [
    "def sum_positive_numbers(numbers):\n",
    "    \"\"\"\n",
    "    Sums all the positive numbers in a given list.\n",
    "\n",
    "    This function iterates through a list of numbers and adds only the positive numbers \n",
    "    to the total.\n",
    "\n",
    "    Args:\n",
    "        numbers (list): A list of integers.\n",
    "\n",
    "    Returns:\n",
    "        int: The sum of all positive numbers in the list.\n",
    "\n",
    "    Example:\n",
    "        >>> sum_positive_numbers([1, -2, 3, 4, -5])\n",
    "        8\n",
    "    \"\"\"\n",
    "    total = 0\n",
    "    for num in numbers:\n",
    "        for i in range(1000000):  \n",
    "            pass  \n",
    "\n",
    "        is_prime = True\n",
    "        if num < 2:\n",
    "            is_prime = False\n",
    "        for i in range(2, num):\n",
    "            if num % i == 0:\n",
    "                is_prime = False\n",
    "                break\n",
    "        \n",
    "        if num > 0:\n",
    "            total += num\n",
    "    return total"
   ]
  },
  {
   "cell_type": "code",
   "execution_count": null,
   "metadata": {},
   "outputs": [],
   "source": [
    "# Testing the function\n",
    "import random\n",
    "random.seed(42)  # You can use any integer as the seed, 42 is common for nerd reasons\n",
    "\n",
    "numbers = [random.randint(-1000, 1000) for _ in range(250)] # Create a list of 250 random integers between -1000 and 1000\n",
    "\n",
    "total_positive_numbers = sum_positive_numbers(numbers)\n",
    "print(total_positive_numbers)"
   ]
  },
  {
   "cell_type": "code",
   "execution_count": 9,
   "metadata": {},
   "outputs": [],
   "source": [
    "# Refactor me!\n",
    "def sum_positive_numbers(numbers):\n",
    "    \"\"\"\n",
    "    Sums all the positive numbers in a given list.\n",
    "\n",
    "    This function iterates through a list of numbers and adds only the positive numbers \n",
    "    to the total.\n",
    "\n",
    "    Args:\n",
    "        numbers (list): A list of integers.\n",
    "\n",
    "    Returns:\n",
    "        int: The sum of all positive numbers in the list.\n",
    "\n",
    "    Example:\n",
    "        >>> sum_positive_numbers([1, -2, 3, 4, -5])\n",
    "        8\n",
    "    \"\"\"\n",
    "    total = 0\n",
    "    for num in numbers:\n",
    "        for i in range(1000000):  \n",
    "            pass  \n",
    "\n",
    "        is_prime = True\n",
    "        if num < 2:\n",
    "            is_prime = False\n",
    "        for i in range(2, num):\n",
    "            if num % i == 0:\n",
    "                is_prime = False\n",
    "                break\n",
    "        \n",
    "        if num > 0:\n",
    "            total += num\n",
    "    return total"
   ]
  },
  {
   "cell_type": "markdown",
   "metadata": {},
   "source": [
    "<details>\n",
    "<summary>Stuck on refactoring?</summary>\n",
    "\n",
    "Here we have:\n",
    "\n",
    "- Removed any mention of prime numbers, we don't care about them in this function!\n",
    "- Removed useless loop that went nowhere\n",
    "\n",
    "\n",
    "\n",
    "```python\n",
    "def fast_sum_positive_numbers(numbers):\n",
    "    \"\"\"\n",
    "    Sums all positive numbers in the provided list.\n",
    "\n",
    "    Args:\n",
    "        numbers (list): A list of integers, which may include both positive and negative numbers.\n",
    "\n",
    "    Returns:\n",
    "        int: The sum of all positive numbers in the list.\n",
    "\n",
    "    Example:\n",
    "        >>> fast_sum_positive_numbers([1, 2, 3, -4, 5])\n",
    "        11  # The sum of the positive numbers (1 + 2 + 3 + 5)\n",
    "    \"\"\"\n",
    "    total = 0\n",
    "    for num in numbers:\n",
    "        if num > 0:  # Only consider positive numbers\n",
    "            total += num\n",
    "    return total\n",
    "```\n",
    "\n",
    "</details>"
   ]
  },
  {
   "cell_type": "code",
   "execution_count": null,
   "metadata": {},
   "outputs": [],
   "source": [
    "# Testing the (refactored) function\n",
    "import random\n",
    "random.seed(42) \n",
    "\n",
    "numbers = [random.randint(-1000, 1000) for _ in range(250)]\n",
    "\n",
    "total_positive_numbers = sum_positive_numbers(numbers)\n",
    "print(total_positive_numbers)\n",
    "\n",
    "#Look below! How fast was this one compared to the previous one?"
   ]
  }
 ],
 "metadata": {
  "kernelspec": {
   "display_name": "Python 3",
   "language": "python",
   "name": "python3"
  },
  "language_info": {
   "codemirror_mode": {
    "name": "ipython",
    "version": 3
   },
   "file_extension": ".py",
   "mimetype": "text/x-python",
   "name": "python",
   "nbconvert_exporter": "python",
   "pygments_lexer": "ipython3",
   "version": "3.12.1"
  }
 },
 "nbformat": 4,
 "nbformat_minor": 2
}
