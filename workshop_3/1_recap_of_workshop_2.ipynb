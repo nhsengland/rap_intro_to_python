{
 "cells": [
  {
   "cell_type": "markdown",
   "metadata": {},
   "source": [
    "# Workshop 2 recap"
   ]
  },
  {
   "cell_type": "markdown",
   "metadata": {},
   "source": [
    "## Conditionals"
   ]
  },
  {
   "cell_type": "markdown",
   "metadata": {},
   "source": [
    "We discussed conditionals - `if` statements.\n",
    "\n",
    "You give them an expression, and a code block.\n",
    "\n",
    "It's using the comparison operator, so it's really saying: if True -> do something!"
   ]
  },
  {
   "cell_type": "code",
   "execution_count": 1,
   "metadata": {},
   "outputs": [
    {
     "name": "stdout",
     "output_type": "stream",
     "text": [
      "The sun is shining!\n"
     ]
    }
   ],
   "source": [
    "weather = \"sunny\"\n",
    "if weather == \"sunny\":\n",
    "    print(\"The sun is shining!\")"
   ]
  },
  {
   "cell_type": "markdown",
   "metadata": {},
   "source": [
    "`weather == \"sunny\"` evaluates to `True`. We can test that:"
   ]
  },
  {
   "cell_type": "code",
   "execution_count": 2,
   "metadata": {},
   "outputs": [
    {
     "name": "stdout",
     "output_type": "stream",
     "text": [
      "True\n"
     ]
    }
   ],
   "source": [
    "print(weather == \"sunny\")"
   ]
  },
  {
   "cell_type": "markdown",
   "metadata": {},
   "source": [
    "So the above is the same as this:"
   ]
  },
  {
   "cell_type": "code",
   "execution_count": 3,
   "metadata": {},
   "outputs": [
    {
     "name": "stdout",
     "output_type": "stream",
     "text": [
      "The sun is shining!\n"
     ]
    }
   ],
   "source": [
    "if True:\n",
    "    print(\"The sun is shining!\")"
   ]
  },
  {
   "cell_type": "markdown",
   "metadata": {},
   "source": [
    "## `else`"
   ]
  },
  {
   "cell_type": "code",
   "execution_count": 5,
   "metadata": {},
   "outputs": [
    {
     "name": "stdout",
     "output_type": "stream",
     "text": [
      "No beach today :(\n"
     ]
    }
   ],
   "source": [
    "weather = \"rainy\"\n",
    "if weather == \"sunny\":\n",
    "    print(\"Let's go to the beach!\")\n",
    "else:\n",
    "    print(\"No beach today :(\")"
   ]
  },
  {
   "cell_type": "markdown",
   "metadata": {},
   "source": [
    "## `while` loops"
   ]
  },
  {
   "cell_type": "markdown",
   "metadata": {},
   "source": [
    "While:\n",
    "\n",
    "A While loop will repeat itself until a certain condition is satisfied\n",
    "\n",
    "This can make them tricky, because if you're not careful they will never end!\n",
    "\n",
    "To cancel, use ctr+c (or in notebooks, press the square stop button)\n"
   ]
  },
  {
   "cell_type": "code",
   "execution_count": 7,
   "metadata": {},
   "outputs": [
    {
     "name": "stdout",
     "output_type": "stream",
     "text": [
      "1\n",
      "2\n",
      "3\n",
      "4\n",
      "5\n",
      "6\n"
     ]
    }
   ],
   "source": [
    "count = 0\n",
    "while count <= 5:\n",
    "    count = count + 1\n",
    "    print(count)"
   ]
  },
  {
   "cell_type": "markdown",
   "metadata": {},
   "source": [
    "## `for` loops"
   ]
  },
  {
   "cell_type": "markdown",
   "metadata": {},
   "source": [
    "For:\n",
    "\n",
    "For loops are much more commonly used. They are used to loop through an iterable.\n",
    "\n",
    "This has iterated through the list of numbers included in the range 0-10 (this excludes 10) and printed something for each one:"
   ]
  },
  {
   "cell_type": "code",
   "execution_count": 8,
   "metadata": {},
   "outputs": [
    {
     "name": "stdout",
     "output_type": "stream",
     "text": [
      "I have 0 ice creams!\n",
      "I have 1 ice creams!\n",
      "I have 2 ice creams!\n",
      "I have 3 ice creams!\n",
      "I have 4 ice creams!\n",
      "I have 5 ice creams!\n",
      "I have 6 ice creams!\n",
      "I have 7 ice creams!\n",
      "I have 8 ice creams!\n",
      "I have 9 ice creams!\n"
     ]
    }
   ],
   "source": [
    "for i in range(0, 10):\n",
    "    print(f\"I have {i} ice creams!\")"
   ]
  },
  {
   "cell_type": "markdown",
   "metadata": {},
   "source": [
    "Below is a list, it uses square brackets and each item is separated by a comma\n",
    "\n",
    "We frequently loop through lists in python"
   ]
  },
  {
   "cell_type": "code",
   "execution_count": 9,
   "metadata": {},
   "outputs": [
    {
     "name": "stdout",
     "output_type": "stream",
     "text": [
      "I love to program in Python!\n",
      "I love to program in JavaScript!\n",
      "I love to program in R!\n",
      "I love to program in Ruby!\n",
      "I love to program in C++!\n"
     ]
    }
   ],
   "source": [
    "languages = [\"Python\", \"JavaScript\", \"R\", \"Ruby\", \"C++\"]\n",
    "\n",
    "for language in languages:\n",
    "    print(f\"I love to program in {language}!\")\n"
   ]
  }
 ],
 "metadata": {
  "kernelspec": {
   "display_name": "Python 3",
   "language": "python",
   "name": "python3"
  },
  "language_info": {
   "codemirror_mode": {
    "name": "ipython",
    "version": 3
   },
   "file_extension": ".py",
   "mimetype": "text/x-python",
   "name": "python",
   "nbconvert_exporter": "python",
   "pygments_lexer": "ipython3",
   "version": "3.12.1"
  }
 },
 "nbformat": 4,
 "nbformat_minor": 2
}
