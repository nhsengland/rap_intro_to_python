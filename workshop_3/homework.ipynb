{
 "cells": [
  {
   "cell_type": "markdown",
   "metadata": {},
   "source": [
    "# Exercises"
   ]
  },
  {
   "cell_type": "markdown",
   "metadata": {},
   "source": [
    "## Functions and loops"
   ]
  },
  {
   "cell_type": "markdown",
   "metadata": {},
   "source": [
    "Let's put a few different things you have learned together. In this exercise you will:\n",
    "\n",
    "- Create a list of numbers\n",
    "- Create a function that returns the square of a number\n",
    "- Loop through your list of numbers and call the function to get the square of each number, and print it"
   ]
  },
  {
   "cell_type": "code",
   "execution_count": null,
   "metadata": {},
   "outputs": [],
   "source": [
    "# create your list of numbers:\n",
    "\n",
    "list_of_numbers = ????"
   ]
  },
  {
   "cell_type": "code",
   "execution_count": null,
   "metadata": {},
   "outputs": [],
   "source": [
    "# Create a function that accepts a number as a parameter, and returns the square of that number:\n",
    "\n",
    "def ????\n",
    "    \"\"\"\n",
    "    Your docstring\n",
    "    \"\"\"\n"
   ]
  },
  {
   "cell_type": "code",
   "execution_count": null,
   "metadata": {},
   "outputs": [],
   "source": [
    "# loop through list_of_numbers, get the square of each one using your function, and print it:\n",
    "\n",
    "for ????\n",
    "    "
   ]
  }
 ],
 "metadata": {
  "language_info": {
   "name": "python"
  }
 },
 "nbformat": 4,
 "nbformat_minor": 2
}
