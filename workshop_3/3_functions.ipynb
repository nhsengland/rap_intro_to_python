{
 "cells": [
  {
   "cell_type": "markdown",
   "metadata": {
    "application/vnd.databricks.v1+cell": {
     "cellMetadata": {},
     "inputWidgets": {},
     "nuid": "7193ad43-311f-4d5d-8cbc-1299207d0807",
     "showTitle": false,
     "title": ""
    }
   },
   "source": [
    "# Functions\n",
    "\n",
    "Functions are like agreements to perform a given task.\n",
    "\n",
    "The task is always the same.\n",
    "\n",
    "But the result/output will differ depending on the input.\n",
    "\n",
    "Like the happy birthday song. When it's someone's birthday, the task is always the same - sing the Happy Birthday song.\n",
    "\n",
    "But the output will differ depending on the person's name."
   ]
  },
  {
   "cell_type": "markdown",
   "metadata": {
    "application/vnd.databricks.v1+cell": {
     "cellMetadata": {},
     "inputWidgets": {},
     "nuid": "1920aaf5-452b-4fb4-9114-4c1432789495",
     "showTitle": false,
     "title": ""
    }
   },
   "source": [
    "## Defining a function"
   ]
  },
  {
   "cell_type": "markdown",
   "metadata": {
    "application/vnd.databricks.v1+cell": {
     "cellMetadata": {},
     "inputWidgets": {},
     "nuid": "58b3ab8b-8a2e-48a6-b878-e632e5dc0bdf",
     "showTitle": false,
     "title": ""
    }
   },
   "source": [
    "to define a function:\n",
    "\n",
    "- use the def keyword\n",
    "- write the name of the function\n",
    "- add the inputs/parameters you want it to accept in brackets\n",
    "- add a colon :\n",
    "- add the code you want in your function indented one level. Once you unindent, you are out of the function."
   ]
  },
  {
   "cell_type": "code",
   "execution_count": 0,
   "metadata": {
    "application/vnd.databricks.v1+cell": {
     "cellMetadata": {},
     "inputWidgets": {},
     "nuid": "f91bd258-f771-41ca-b257-fbe17ca57c2a",
     "showTitle": false,
     "title": ""
    }
   },
   "outputs": [],
   "source": [
    "\n",
    "def sing_happy_birthday(name):\n",
    "    print(\"Happy birthday to you\")\n",
    "    print(\"Happy birthday to you\")\n",
    "    print(f\"Happy birthday dear {name}\")\n",
    "    print(\"Happy birthday to you\")\n",
    "\n",
    "print(\"This line is not in the function\")"
   ]
  },
  {
   "cell_type": "markdown",
   "metadata": {
    "application/vnd.databricks.v1+cell": {
     "cellMetadata": {},
     "inputWidgets": {},
     "nuid": "8a6205b9-48ad-4b28-8178-148b36cba730",
     "showTitle": false,
     "title": ""
    }
   },
   "source": [
    "## Calling a function"
   ]
  },
  {
   "cell_type": "markdown",
   "metadata": {
    "application/vnd.databricks.v1+cell": {
     "cellMetadata": {},
     "inputWidgets": {},
     "nuid": "a1a2ea48-ba34-48f9-ba75-2b17b20f4351",
     "showTitle": false,
     "title": ""
    }
   },
   "source": [
    "To use the code in a function we have to call it. \n",
    "\n",
    "We do this my simply invoking its name, and then putting the parameters we want to pass to it in brackets.\n",
    "\n",
    "This is what makes our code re-usable - wherever we have code repeated in a script, we can put that code into a function, and just call it wherever it is needed."
   ]
  },
  {
   "cell_type": "code",
   "execution_count": 0,
   "metadata": {
    "application/vnd.databricks.v1+cell": {
     "cellMetadata": {},
     "inputWidgets": {},
     "nuid": "8091ebd8-68a0-4524-a669-f38a17720885",
     "showTitle": false,
     "title": ""
    }
   },
   "outputs": [],
   "source": [
    "sing_happy_birthday(\"Brian May\")"
   ]
  },
  {
   "cell_type": "code",
   "execution_count": 0,
   "metadata": {
    "application/vnd.databricks.v1+cell": {
     "cellMetadata": {},
     "inputWidgets": {},
     "nuid": "bb788869-ef88-48fd-bdf0-b1b6c5748eb5",
     "showTitle": false,
     "title": ""
    }
   },
   "outputs": [],
   "source": [
    "sing_happy_birthday(\"Benedict Cumberbatch\")"
   ]
  },
  {
   "cell_type": "markdown",
   "metadata": {
    "application/vnd.databricks.v1+cell": {
     "cellMetadata": {},
     "inputWidgets": {},
     "nuid": "2966eb9e-f7d7-4b82-b280-83a5fe1851f1",
     "showTitle": false,
     "title": ""
    }
   },
   "source": [
    "## Return"
   ]
  },
  {
   "cell_type": "markdown",
   "metadata": {
    "application/vnd.databricks.v1+cell": {
     "cellMetadata": {},
     "inputWidgets": {},
     "nuid": "ab10eb70-92cc-43ad-8230-ea255ef87964",
     "showTitle": false,
     "title": ""
    }
   },
   "source": [
    "The above function just prints some things out. \n",
    "\n",
    "But what if we don't want to do that? What if we want to capture some result of the processing in the function, so that we can use it elsewhere in our scripts?\n",
    "\n",
    "For this, we use the return keyword."
   ]
  },
  {
   "cell_type": "markdown",
   "metadata": {
    "application/vnd.databricks.v1+cell": {
     "cellMetadata": {},
     "inputWidgets": {},
     "nuid": "2a335657-c211-41a1-81f4-e9bc25deda98",
     "showTitle": false,
     "title": ""
    }
   },
   "source": [
    "Let's say we want to make a function that adds two numbers together, and return the result. We'd do it like this:"
   ]
  },
  {
   "cell_type": "code",
   "execution_count": 0,
   "metadata": {
    "application/vnd.databricks.v1+cell": {
     "cellMetadata": {},
     "inputWidgets": {},
     "nuid": "e8af1670-5813-474e-89c3-f7eafbaba60f",
     "showTitle": false,
     "title": ""
    }
   },
   "outputs": [],
   "source": [
    "def add_two_numbers(first_number, second_number):\n",
    "\n",
    "    sum_of_numbers = first_number + second_number\n",
    "\n",
    "    return sum_of_numbers"
   ]
  },
  {
   "cell_type": "markdown",
   "metadata": {
    "application/vnd.databricks.v1+cell": {
     "cellMetadata": {},
     "inputWidgets": {},
     "nuid": "f5811cc9-c865-45dd-ae8b-77535fa1e697",
     "showTitle": false,
     "title": ""
    }
   },
   "source": [
    "Now, to capture the value the function returns, we just store it in a variable, like this:"
   ]
  },
  {
   "cell_type": "code",
   "execution_count": 0,
   "metadata": {
    "application/vnd.databricks.v1+cell": {
     "cellMetadata": {},
     "inputWidgets": {},
     "nuid": "09634289-4337-4512-be47-a681de562030",
     "showTitle": false,
     "title": ""
    }
   },
   "outputs": [],
   "source": [
    "total = add_two_numbers( 1, 2 )\n",
    "\n",
    "print(total)"
   ]
  },
  {
   "cell_type": "markdown",
   "metadata": {
    "application/vnd.databricks.v1+cell": {
     "cellMetadata": {},
     "inputWidgets": {},
     "nuid": "d9c63f28-83d7-48a6-abdc-1abc38e674a0",
     "showTitle": false,
     "title": ""
    }
   },
   "source": [
    "# Exercise"
   ]
  },
  {
   "cell_type": "markdown",
   "metadata": {
    "application/vnd.databricks.v1+cell": {
     "cellMetadata": {},
     "inputWidgets": {},
     "nuid": "a203e1a8-6e5c-4792-9a19-f536da4ff47c",
     "showTitle": false,
     "title": ""
    }
   },
   "source": [
    "Define a function in the cell below that either\n",
    "\n",
    "- multiplies two numbers\n",
    "- subtracts one number from another\n",
    "- divides one number into another"
   ]
  },
  {
   "cell_type": "code",
   "execution_count": 0,
   "metadata": {
    "application/vnd.databricks.v1+cell": {
     "cellMetadata": {},
     "inputWidgets": {},
     "nuid": "f5cf689e-04ea-4fc6-b470-34be34dfebc9",
     "showTitle": false,
     "title": ""
    }
   },
   "outputs": [],
   "source": [
    "# Write your function:\n",
    "\n"
   ]
  },
  {
   "cell_type": "markdown",
   "metadata": {
    "application/vnd.databricks.v1+cell": {
     "cellMetadata": {},
     "inputWidgets": {},
     "nuid": "9071e7a3-a61f-495a-9f4f-17cfb701f160",
     "showTitle": false,
     "title": ""
    }
   },
   "source": [
    "In the cell below, call your function, capture its output into a variable, and print that variable."
   ]
  },
  {
   "cell_type": "code",
   "execution_count": 0,
   "metadata": {
    "application/vnd.databricks.v1+cell": {
     "cellMetadata": {},
     "inputWidgets": {},
     "nuid": "66ee9fcb-33e5-4948-a947-c64562509017",
     "showTitle": false,
     "title": ""
    }
   },
   "outputs": [],
   "source": [
    "# Call your function here:"
   ]
  },
  {
   "cell_type": "markdown",
   "metadata": {
    "application/vnd.databricks.v1+cell": {
     "cellMetadata": {},
     "inputWidgets": {},
     "nuid": "4094d950-c5c8-4ff6-bc22-2edc324d4c74",
     "showTitle": false,
     "title": ""
    }
   },
   "source": [
    "# Some tips"
   ]
  },
  {
   "cell_type": "markdown",
   "metadata": {
    "application/vnd.databricks.v1+cell": {
     "cellMetadata": {},
     "inputWidgets": {},
     "nuid": "1ab2373f-80c0-4c6c-8cb9-2fdd12945299",
     "showTitle": false,
     "title": ""
    }
   },
   "source": [
    "### Returning expressions"
   ]
  },
  {
   "cell_type": "markdown",
   "metadata": {
    "application/vnd.databricks.v1+cell": {
     "cellMetadata": {},
     "inputWidgets": {},
     "nuid": "8ebb804c-d290-417e-9a69-e3499c3a8cd5",
     "showTitle": false,
     "title": ""
    }
   },
   "source": [
    "You don't have to return a variable. You can return an expression directly. This will work just the same:"
   ]
  },
  {
   "cell_type": "code",
   "execution_count": 0,
   "metadata": {
    "application/vnd.databricks.v1+cell": {
     "cellMetadata": {},
     "inputWidgets": {},
     "nuid": "0011b6d4-e150-4d52-8c53-e57c37c97bb3",
     "showTitle": false,
     "title": ""
    }
   },
   "outputs": [],
   "source": [
    "def add_two_numbers(first_number, second_number):\n",
    "\n",
    "    return first_number + second_number\n",
    "\n",
    "total = add_two_numbers( 1, 2 )\n",
    "\n",
    "print(total)"
   ]
  },
  {
   "cell_type": "markdown",
   "metadata": {
    "application/vnd.databricks.v1+cell": {
     "cellMetadata": {},
     "inputWidgets": {},
     "nuid": "784d33ac-35d2-4ab1-a2bb-aa724b779517",
     "showTitle": false,
     "title": ""
    }
   },
   "source": [
    "### Remember to pass all required parameters!"
   ]
  },
  {
   "cell_type": "markdown",
   "metadata": {
    "application/vnd.databricks.v1+cell": {
     "cellMetadata": {},
     "inputWidgets": {},
     "nuid": "ed8ddde5-ddbf-479b-b342-67778d6da177",
     "showTitle": false,
     "title": ""
    }
   },
   "source": [
    "If you define a parameter when you create the function, and don't pass it when you call the function, Python will complain:"
   ]
  },
  {
   "cell_type": "code",
   "execution_count": 0,
   "metadata": {
    "application/vnd.databricks.v1+cell": {
     "cellMetadata": {},
     "inputWidgets": {},
     "nuid": "49c35eda-3110-48f5-9439-e49dcb5c09cd",
     "showTitle": false,
     "title": ""
    }
   },
   "outputs": [],
   "source": [
    "total = add_two_numbers(1)\n",
    "\n",
    "print(total)"
   ]
  },
  {
   "cell_type": "markdown",
   "metadata": {
    "application/vnd.databricks.v1+cell": {
     "cellMetadata": {},
     "inputWidgets": {},
     "nuid": "4f46acb5-69d8-4447-a459-80feb907b988",
     "showTitle": false,
     "title": ""
    }
   },
   "source": [
    "### Default values"
   ]
  },
  {
   "cell_type": "markdown",
   "metadata": {
    "application/vnd.databricks.v1+cell": {
     "cellMetadata": {},
     "inputWidgets": {},
     "nuid": "e690c994-29e6-42f6-9c71-6efa884ca227",
     "showTitle": false,
     "title": ""
    }
   },
   "source": [
    "You can get around this problem where appropriate by setting default values for parameters, which will be used if a parameter is not passed. This time, python will not complain:"
   ]
  },
  {
   "cell_type": "code",
   "execution_count": 0,
   "metadata": {
    "application/vnd.databricks.v1+cell": {
     "cellMetadata": {},
     "inputWidgets": {},
     "nuid": "00ef4d03-8781-4d20-9f41-f1a781d263f9",
     "showTitle": false,
     "title": ""
    }
   },
   "outputs": [],
   "source": [
    "def add_two_numbers(first_number, second_number = 2):\n",
    "\n",
    "    return first_number + second_number\n",
    "\n",
    "total = add_two_numbers(1)\n",
    "\n",
    "print(total)"
   ]
  },
  {
   "cell_type": "markdown",
   "metadata": {
    "application/vnd.databricks.v1+cell": {
     "cellMetadata": {},
     "inputWidgets": {},
     "nuid": "a453df88-7829-450c-9ceb-f2a6699c0358",
     "showTitle": false,
     "title": ""
    }
   },
   "source": [
    "### There are no indentation inside brackets"
   ]
  },
  {
   "cell_type": "markdown",
   "metadata": {
    "application/vnd.databricks.v1+cell": {
     "cellMetadata": {},
     "inputWidgets": {},
     "nuid": "5cc79a9e-2348-4609-baaa-f90d879ce361",
     "showTitle": false,
     "title": ""
    }
   },
   "source": [
    "Python is generally very strict about indentation. But inside brackets, it ignores indentation rules.\n",
    "\n",
    "So if you have many parameters, sometimes it can be more readable to put them on separate lines."
   ]
  },
  {
   "cell_type": "code",
   "execution_count": 0,
   "metadata": {
    "application/vnd.databricks.v1+cell": {
     "cellMetadata": {},
     "inputWidgets": {},
     "nuid": "6aed1d18-3317-4c18-ab70-ba533cc62fa3",
     "showTitle": false,
     "title": ""
    }
   },
   "outputs": [],
   "source": [
    "def add_two_numbers(\n",
    "    first_number, \n",
    "    second_number = 2\n",
    "):\n",
    "\n",
    "    return first_number + second_number\n",
    "\n",
    "total = add_two_numbers(1)\n",
    "\n",
    "print(total)"
   ]
  },
  {
   "cell_type": "markdown",
   "metadata": {
    "application/vnd.databricks.v1+cell": {
     "cellMetadata": {},
     "inputWidgets": {},
     "nuid": "f5538975-0ca0-40a7-8e6f-50a7fa1ed8ad",
     "showTitle": false,
     "title": ""
    }
   },
   "source": [
    "Python is very flexible in what you can pass. You can even pass a function call to a function! Just like in maths, brackets are evaluated inside-out.\n",
    "\n",
    "In the example below:"
   ]
  },
  {
   "cell_type": "code",
   "execution_count": 0,
   "metadata": {
    "application/vnd.databricks.v1+cell": {
     "cellMetadata": {},
     "inputWidgets": {},
     "nuid": "e3d7bcad-887d-4b89-bbdd-e0e28651bd40",
     "showTitle": false,
     "title": ""
    }
   },
   "outputs": [],
   "source": [
    "print(add_two_numbers(1, 2))"
   ]
  },
  {
   "cell_type": "markdown",
   "metadata": {
    "application/vnd.databricks.v1+cell": {
     "cellMetadata": {},
     "inputWidgets": {},
     "nuid": "f18427af-d75b-455c-b798-cb7d9bbb6cdf",
     "showTitle": false,
     "title": ""
    }
   },
   "source": [
    "`add_two_numbers(1, 2)` is evaluated first, and as we know, that returns 3.\n",
    "\n",
    "So \n",
    "\n",
    "`print(add_two_numbers(1, 2))`\n",
    "\n",
    "evaluates to:\n",
    "\n",
    "`print(3)`\n",
    "\n",
    "However, although this is possible, it often makes the code less readable."
   ]
  },
  {
   "cell_type": "markdown",
   "metadata": {
    "application/vnd.databricks.v1+cell": {
     "cellMetadata": {},
     "inputWidgets": {},
     "nuid": "89892956-3124-4975-b3b9-cf8097d51182",
     "showTitle": false,
     "title": ""
    }
   },
   "source": [
    "## Docstrings"
   ]
  },
  {
   "cell_type": "markdown",
   "metadata": {
    "application/vnd.databricks.v1+cell": {
     "cellMetadata": {},
     "inputWidgets": {},
     "nuid": "5ca73865-3b7b-4e12-9c09-49cb2f957458",
     "showTitle": false,
     "title": ""
    }
   },
   "source": [
    "A docstring is a little bit of documentation you can add to the function, to help future developers understand what the function does.\n",
    "\n",
    "You define this straight after your def line, by putting them inside triple quotes.\n",
    "\n",
    "There are different formats, but they all cover the same bases\n",
    "\n",
    "- short description\n",
    "- a description of each parameter and what type it should be\n",
    "- a description of what the function returns\n",
    "\n",
    "The docstring has no impact on what the function does, it's just there for information.\n",
    "\n",
    "In the \"numpy\" format, each of these sections gets its own header, like this:"
   ]
  },
  {
   "cell_type": "code",
   "execution_count": 0,
   "metadata": {
    "application/vnd.databricks.v1+cell": {
     "cellMetadata": {},
     "inputWidgets": {},
     "nuid": "d973d73f-0ac7-4ae0-a093-c74724cc49af",
     "showTitle": false,
     "title": ""
    }
   },
   "outputs": [],
   "source": [
    "def add_two_numbers(\n",
    "    first_number, \n",
    "    second_number = 2\n",
    "):\n",
    "    \"\"\"\n",
    "    Adds two numbers together and returns the result.\n",
    "\n",
    "    Parameters\n",
    "    ----------\n",
    "\n",
    "    first_number (int) : the first number\n",
    "    second_number (int) : the second number\n",
    "\n",
    "    Returns\n",
    "    -------\n",
    "\n",
    "    int : the sum of the two numbers\n",
    "\n",
    "    \"\"\"\n",
    "    return first_number + second_number\n",
    "\n",
    "total = add_two_numbers(1)\n",
    "\n",
    "print(total)"
   ]
  },
  {
   "cell_type": "markdown",
   "metadata": {
    "application/vnd.databricks.v1+cell": {
     "cellMetadata": {},
     "inputWidgets": {},
     "nuid": "537730a0-e048-4cf4-a5f9-953b3923425a",
     "showTitle": false,
     "title": ""
    }
   },
   "source": [
    "Now in VS Code, if you hover over a function that has a dosctring, you'll see it in a popup:"
   ]
  },
  {
   "cell_type": "code",
   "execution_count": 0,
   "metadata": {
    "application/vnd.databricks.v1+cell": {
     "cellMetadata": {},
     "inputWidgets": {},
     "nuid": "2759589c-a75e-43e8-baae-bfb949645acd",
     "showTitle": false,
     "title": ""
    }
   },
   "outputs": [],
   "source": [
    "add_two_numbers(1, 2)"
   ]
  }
 ],
 "metadata": {
  "application/vnd.databricks.v1+notebook": {
   "dashboards": [],
   "environmentMetadata": null,
   "language": "python",
   "notebookMetadata": {
    "pythonIndentUnit": 4
   },
   "notebookName": "3_functions",
   "widgets": {}
  },
  "kernelspec": {
   "display_name": "Python 3",
   "language": "python",
   "name": "python3"
  },
  "language_info": {
   "codemirror_mode": {
    "name": "ipython",
    "version": 3
   },
   "file_extension": ".py",
   "mimetype": "text/x-python",
   "name": "python",
   "nbconvert_exporter": "python",
   "pygments_lexer": "ipython3",
   "version": "3.10.13"
  }
 },
 "nbformat": 4,
 "nbformat_minor": 0
}
