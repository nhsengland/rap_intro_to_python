{
 "cells": [
  {
   "cell_type": "markdown",
   "metadata": {},
   "source": [
    "# Functions\n",
    "\n",
    "Functions are like agreements to perform a given task.\n",
    "\n",
    "The task is always the same.\n",
    "\n",
    "But the result/output will differ depending on the input.\n",
    "\n",
    "Like the happy birthday song. When it's someone's birthday, the task is always the same - sing the Happy Birthday song.\n",
    "\n",
    "But the output will differ depending on the person's name."
   ]
  },
  {
   "cell_type": "markdown",
   "metadata": {},
   "source": [
    "## Defining a function"
   ]
  },
  {
   "cell_type": "markdown",
   "metadata": {},
   "source": [
    "to define a function:\n",
    "\n",
    "- use the def keyword\n",
    "- write the name of the function\n",
    "- add the inputs/parameters you want it to accept in brackets\n",
    "- add a colon :\n",
    "- add the code you want in your function indented one level. Once you unindent, you are out of the function."
   ]
  },
  {
   "cell_type": "code",
   "execution_count": null,
   "metadata": {},
   "outputs": [],
   "source": [
    "\n",
    "def sing_happy_birthday(name):\n",
    "    print(\"Happy birthday to you\")\n",
    "    print(\"Happy birthday to you\")\n",
    "    print(f\"Happy birthday dear {name}\")\n",
    "    print(\"Happy birthday to you\")\n",
    "\n",
    "print(\"This line is not in the function\")"
   ]
  },
  {
   "cell_type": "markdown",
   "metadata": {},
   "source": [
    "## Calling a function"
   ]
  },
  {
   "cell_type": "markdown",
   "metadata": {},
   "source": [
    "To use the code in a function we have to call it. \n",
    "\n",
    "We do this my simply invoking its name, and then putting the parameters we want to pass to it in brackets.\n",
    "\n",
    "This is what makes our code re-usable - wherever we have code repeated in a script, we can put that code into a function, and just call it wherever it is needed."
   ]
  },
  {
   "cell_type": "code",
   "execution_count": null,
   "metadata": {},
   "outputs": [],
   "source": [
    "sing_happy_birthday(\"Brian May\")"
   ]
  },
  {
   "cell_type": "code",
   "execution_count": null,
   "metadata": {},
   "outputs": [],
   "source": [
    "sing_happy_birthday(\"Benedict Cumberbatch\")"
   ]
  },
  {
   "cell_type": "markdown",
   "metadata": {},
   "source": [
    "## Return"
   ]
  },
  {
   "cell_type": "markdown",
   "metadata": {},
   "source": [
    "The above function just prints some things out. \n",
    "\n",
    "But what if we don't want to do that? What if we want to capture some result of the processing in the function, so that we can use it elsewhere in our scripts?\n",
    "\n",
    "For this, we use the return keyword."
   ]
  },
  {
   "cell_type": "markdown",
   "metadata": {},
   "source": [
    "Let's say we want to make a function that adds two numbers together, and return the result. We'd do it like this:"
   ]
  },
  {
   "cell_type": "code",
   "execution_count": 6,
   "metadata": {},
   "outputs": [],
   "source": [
    "def add_two_numbers(first_number, second_number):\n",
    "\n",
    "    sum_of_numbers = first_number + second_number\n",
    "\n",
    "    return sum_of_numbers"
   ]
  },
  {
   "cell_type": "markdown",
   "metadata": {},
   "source": [
    "Now, to capture the value the function returns, we just store it in a variable, like this:"
   ]
  },
  {
   "cell_type": "code",
   "execution_count": 13,
   "metadata": {},
   "outputs": [
    {
     "name": "stdout",
     "output_type": "stream",
     "text": [
      "3\n"
     ]
    }
   ],
   "source": [
    "total = add_two_numbers( 1, 2 )\n",
    "\n",
    "print(total)"
   ]
  },
  {
   "cell_type": "markdown",
   "metadata": {},
   "source": [
    "# Exercise"
   ]
  },
  {
   "cell_type": "markdown",
   "metadata": {},
   "source": [
    "Define a function in the cell below that either\n",
    "\n",
    "- multiplies two numbers\n",
    "- subtracts one number from another\n",
    "- divides one number into another"
   ]
  },
  {
   "cell_type": "code",
   "execution_count": 14,
   "metadata": {},
   "outputs": [],
   "source": [
    "# Write your function:\n",
    "def multiply_two_numbers(a, b):\n",
    "    multiplication_of_two_numbers = a * b\n",
    "    return multiplication_of_two_numbers\n",
    "\n"
   ]
  },
  {
   "cell_type": "markdown",
   "metadata": {},
   "source": [
    "In the cell below, call your function, capture its output into a variable, and print that variable."
   ]
  },
  {
   "cell_type": "code",
   "execution_count": 21,
   "metadata": {},
   "outputs": [
    {
     "name": "stdout",
     "output_type": "stream",
     "text": [
      "45\n",
      "45\n"
     ]
    }
   ],
   "source": [
    "# Call your function here:\n",
    "answer = multiply_two_numbers(-3,-15)\n",
    "print (multiply_two_numbers(-3,-15))\n",
    "print(answer)"
   ]
  },
  {
   "cell_type": "markdown",
   "metadata": {},
   "source": [
    "# Some tips"
   ]
  },
  {
   "cell_type": "markdown",
   "metadata": {},
   "source": [
    "### Returning expressions"
   ]
  },
  {
   "cell_type": "markdown",
   "metadata": {},
   "source": [
    "You don't have to return a variable. You can return an expression directly. This will work just the same:"
   ]
  },
  {
   "cell_type": "code",
   "execution_count": 22,
   "metadata": {},
   "outputs": [
    {
     "name": "stdout",
     "output_type": "stream",
     "text": [
      "3\n"
     ]
    }
   ],
   "source": [
    "def add_two_numbers(first_number, second_number):\n",
    "\n",
    "    return first_number + second_number\n",
    "\n",
    "total = add_two_numbers( 1, 2 )\n",
    "\n",
    "print(total)"
   ]
  },
  {
   "cell_type": "markdown",
   "metadata": {},
   "source": [
    "### Remember to pass all required parameters!"
   ]
  },
  {
   "cell_type": "markdown",
   "metadata": {},
   "source": [
    "If you define a parameter when you create the function, and don't pass it when you call the function, Python will complain:"
   ]
  },
  {
   "cell_type": "code",
   "execution_count": 23,
   "metadata": {},
   "outputs": [
    {
     "ename": "TypeError",
     "evalue": "add_two_numbers() missing 1 required positional argument: 'second_number'",
     "output_type": "error",
     "traceback": [
      "\u001b[0;31m---------------------------------------------------------------------------\u001b[0m",
      "\u001b[0;31mTypeError\u001b[0m                                 Traceback (most recent call last)",
      "Cell \u001b[0;32mIn[23], line 1\u001b[0m\n\u001b[0;32m----> 1\u001b[0m total \u001b[38;5;241m=\u001b[39m \u001b[43madd_two_numbers\u001b[49m\u001b[43m(\u001b[49m\u001b[38;5;241;43m1\u001b[39;49m\u001b[43m)\u001b[49m\n\u001b[1;32m      3\u001b[0m \u001b[38;5;28mprint\u001b[39m(total)\n",
      "\u001b[0;31mTypeError\u001b[0m: add_two_numbers() missing 1 required positional argument: 'second_number'"
     ]
    }
   ],
   "source": [
    "total = add_two_numbers(1)\n",
    "\n",
    "print(total)"
   ]
  },
  {
   "cell_type": "markdown",
   "metadata": {},
   "source": [
    "### Default values"
   ]
  },
  {
   "cell_type": "markdown",
   "metadata": {},
   "source": [
    "You can get around this problem where appropriate by setting default values for parameters, which will be used if a parameter is not passed. This time, python will not complain:"
   ]
  },
  {
   "cell_type": "code",
   "execution_count": 26,
   "metadata": {},
   "outputs": [
    {
     "name": "stdout",
     "output_type": "stream",
     "text": [
      "3\n"
     ]
    }
   ],
   "source": [
    "def add_two_numbers(first_number, second_number = 2):\n",
    "\n",
    "    return first_number + second_number\n",
    "\n",
    "total = add_two_numbers(1)\n",
    "\n",
    "print(total)"
   ]
  },
  {
   "cell_type": "markdown",
   "metadata": {},
   "source": [
    "### There are no indentation inside brackets"
   ]
  },
  {
   "cell_type": "markdown",
   "metadata": {},
   "source": [
    "Python is generally very strict about indentation. But inside brackets, it ignores indentation rules.\n",
    "\n",
    "So if you have many parameters, sometimes it can be more readable to put them on separate lines."
   ]
  },
  {
   "cell_type": "code",
   "execution_count": 27,
   "metadata": {},
   "outputs": [
    {
     "name": "stdout",
     "output_type": "stream",
     "text": [
      "3\n"
     ]
    }
   ],
   "source": [
    "def add_two_numbers(\n",
    "    first_number, \n",
    "    second_number = 2\n",
    "):\n",
    "\n",
    "    return first_number + second_number\n",
    "\n",
    "total = add_two_numbers(1)\n",
    "\n",
    "print(total)"
   ]
  },
  {
   "cell_type": "markdown",
   "metadata": {},
   "source": [
    "Python is very flexible in what you can pass. You can even pass a function call to a function! Just like in maths, brackets are evaluated inside-out.\n",
    "\n",
    "In the example below:"
   ]
  },
  {
   "cell_type": "code",
   "execution_count": 28,
   "metadata": {},
   "outputs": [
    {
     "name": "stdout",
     "output_type": "stream",
     "text": [
      "3\n"
     ]
    }
   ],
   "source": [
    "print(add_two_numbers(1, 2))"
   ]
  },
  {
   "cell_type": "markdown",
   "metadata": {},
   "source": [
    "`add_two_numbers(1, 2)` is evaluated first, and as we know, that returns 3.\n",
    "\n",
    "So \n",
    "\n",
    "`print(add_two_numbers(1, 2))`\n",
    "\n",
    "evaluates to:\n",
    "\n",
    "`print(3)`\n",
    "\n",
    "However, although this is possible, it often makes the code less readable."
   ]
  },
  {
   "cell_type": "markdown",
   "metadata": {},
   "source": [
    "## Docstrings"
   ]
  },
  {
   "cell_type": "markdown",
   "metadata": {},
   "source": [
    "A docstring is a little bit of documentation you can add to the function, to help future developers understand what the function does.\n",
    "\n",
    "You define this straight after your def line, by putting them inside triple quotes.\n",
    "\n",
    "There are different formats, but they all cover the same bases\n",
    "\n",
    "- short description\n",
    "- a description of each parameter and what type it should be\n",
    "- a description of what the function returns\n",
    "\n",
    "The docstring has no impact on what the function does, it's just there for information.\n",
    "\n",
    "In the \"numpy\" format, each of these sections gets its own header, like this:"
   ]
  },
  {
   "cell_type": "code",
   "execution_count": 29,
   "metadata": {},
   "outputs": [
    {
     "name": "stdout",
     "output_type": "stream",
     "text": [
      "3\n"
     ]
    }
   ],
   "source": [
    "def add_two_numbers(\n",
    "    first_number, \n",
    "    second_number = 2\n",
    "):\n",
    "    \"\"\"\n",
    "    Adds two numbers together and returns the result.\n",
    "\n",
    "    Parameters\n",
    "    ----------\n",
    "\n",
    "    first_number (int) : the first number\n",
    "    second_number (int) : the second number\n",
    "\n",
    "    Returns\n",
    "    -------\n",
    "\n",
    "    int : the sum of the two numbers\n",
    "\n",
    "    \"\"\"\n",
    "    return first_number + second_number\n",
    "\n",
    "total = add_two_numbers(1)\n",
    "\n",
    "print(total)"
   ]
  },
  {
   "cell_type": "markdown",
   "metadata": {},
   "source": [
    "Now in VS Code, if you hover over a function that has a dosctring, you'll see it in a popup:"
   ]
  },
  {
   "cell_type": "code",
   "execution_count": 30,
   "metadata": {},
   "outputs": [
    {
     "data": {
      "text/plain": [
       "3"
      ]
     },
     "execution_count": 30,
     "metadata": {},
     "output_type": "execute_result"
    }
   ],
   "source": [
    "add_two_numbers(1, 2)"
   ]
  }
 ],
 "metadata": {
  "kernelspec": {
   "display_name": "Python 3",
   "language": "python",
   "name": "python3"
  },
  "language_info": {
   "codemirror_mode": {
    "name": "ipython",
    "version": 3
   },
   "file_extension": ".py",
   "mimetype": "text/x-python",
   "name": "python",
   "nbconvert_exporter": "python",
   "pygments_lexer": "ipython3",
   "version": "3.12.1"
  }
 },
 "nbformat": 4,
 "nbformat_minor": 2
}
