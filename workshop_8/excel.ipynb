{
 "cells": [
  {
   "cell_type": "markdown",
   "metadata": {},
   "source": [
    "# Editing Excel files with Python"
   ]
  },
  {
   "cell_type": "markdown",
   "metadata": {},
   "source": [
    "You can create, load, modify and save Excel files with a python library called openpyxl."
   ]
  },
  {
   "cell_type": "markdown",
   "metadata": {},
   "source": [
    "# Import Required Libraries\n",
    "Import the necessary libraries, including openpyxl and pandas.\n",
    "\n",
    "You'll need to have installed these into your Python environment first with:\n",
    "\n",
    "`pip install openpyxl`\n",
    "\n",
    "`pip install pandas`"
   ]
  },
  {
   "cell_type": "code",
   "execution_count": null,
   "metadata": {},
   "outputs": [],
   "source": [
    "import openpyxl\n",
    "import pandas as pd"
   ]
  },
  {
   "cell_type": "markdown",
   "metadata": {},
   "source": [
    "# Loading an Existing Workbook\n",
    "Use openpyxl to load an existing Excel file."
   ]
  },
  {
   "cell_type": "code",
   "execution_count": null,
   "metadata": {},
   "outputs": [],
   "source": [
    "# Load an existing workbook\n",
    "wb = openpyxl.load_workbook('./report_template.xlsx')"
   ]
  },
  {
   "cell_type": "markdown",
   "metadata": {},
   "source": [
    "The variable `wb` is an openpyxl Workbook object as we can see here:"
   ]
  },
  {
   "cell_type": "code",
   "execution_count": null,
   "metadata": {},
   "outputs": [],
   "source": [
    "type(wb)"
   ]
  },
  {
   "cell_type": "markdown",
   "metadata": {},
   "source": [
    "Just like how DataFrames have useful functions and properties that we can use to query the data inside it ( like `.select()`, `.where()` etc.), openpyxl Workbooks have useful methods and properties that let us manipulate the Excel file.\n",
    "\n",
    "Let's start with an easy one - listing the names of the sheets in the workbook."
   ]
  },
  {
   "cell_type": "code",
   "execution_count": null,
   "metadata": {},
   "outputs": [],
   "source": [
    "# Display the sheet names in the workbook\n",
    "sheet_names = wb.sheetnames\n",
    "print(sheet_names)"
   ]
  },
  {
   "cell_type": "markdown",
   "metadata": {},
   "source": [
    "# Accessing Sheets\n",
    "If we want to edit a sheet in the Excel file, first we need to create a Worksheet object. Now that we know the names of the sheets in this file, we can use these to create our Worksheet object, like this.\n",
    "\n",
    "You may recognise this syntax - it's the same syntax we use to select items from a dictionary!\n",
    "\n",
    "For example if you wanted to select the \"Title\" sheet, we would do the following:"
   ]
  },
  {
   "cell_type": "code",
   "execution_count": null,
   "metadata": {},
   "outputs": [],
   "source": [
    "ws_title = wb['Title']"
   ]
  },
  {
   "cell_type": "markdown",
   "metadata": {},
   "source": [
    "Worksheet objects all have a property called `title` that we can use to return the name of the worksheet as a string. We can do other stuff with it, like print it out:"
   ]
  },
  {
   "cell_type": "code",
   "execution_count": null,
   "metadata": {},
   "outputs": [],
   "source": [
    "print(ws_title.title)"
   ]
  },
  {
   "cell_type": "markdown",
   "metadata": {},
   "source": [
    "## Exercise"
   ]
  },
  {
   "cell_type": "markdown",
   "metadata": {},
   "source": [
    "In the cell below, create a Worksheet object based on the \"Table 1\" sheet, and print out its title:"
   ]
  },
  {
   "cell_type": "code",
   "execution_count": null,
   "metadata": {},
   "outputs": [],
   "source": []
  },
  {
   "cell_type": "markdown",
   "metadata": {},
   "source": [
    "# Reading and Writing Cell Values\n",
    "\n",
    "Once we have created a Worksheet object, we can access the cells within it using the same square bracket syntax.\n",
    "\n",
    "Cell objects have a property called `value` that we can use to change what the cell contains.\n",
    "\n",
    "For example, our report's main header is currently \"Report title\". This is in cell A3 of the \"Title\" worksheet. If we want to change this, we need to reassign it, like this:"
   ]
  },
  {
   "cell_type": "code",
   "execution_count": null,
   "metadata": {},
   "outputs": [],
   "source": [
    "ws_title['A3'].value = 'Hello World!'"
   ]
  },
  {
   "cell_type": "markdown",
   "metadata": {},
   "source": [
    "After we've made a change, we need to save the file. There is a Workbook method we can use for this.\n",
    "\n",
    "But of course, we should save it with a different file name, so that we don't overwrite our template.\n",
    "\n",
    "Note: If you're doing this in Codespaces, you won't be able to open the Excel file directly from here. You'll have to right-click the file in the browser on the left and download it. Alternatively, you can install an extension called \"Excel Viewer\", although it isn't perfect and doesn't show all the formatting correctly."
   ]
  },
  {
   "cell_type": "code",
   "execution_count": null,
   "metadata": {},
   "outputs": [],
   "source": [
    "wb.save('report_modified.xlsx')"
   ]
  },
  {
   "cell_type": "markdown",
   "metadata": {},
   "source": [
    "# Exercise"
   ]
  },
  {
   "cell_type": "markdown",
   "metadata": {},
   "source": [
    "The header for the table at A4 in the \"Table 1\" worksheet is \"Table 1: Here is some data\". In the cell below, change this to something else and save the file.\n",
    "\n",
    "Note: If you get an error when saving, you might not have permissions to overwrite the file. Just delete report_modified.xlxs manually from the file browser, and then try again."
   ]
  },
  {
   "cell_type": "code",
   "execution_count": null,
   "metadata": {},
   "outputs": [],
   "source": []
  },
  {
   "cell_type": "markdown",
   "metadata": {},
   "source": [
    "# Formatting Cells"
   ]
  },
  {
   "cell_type": "markdown",
   "metadata": {},
   "source": [
    "We can use openpyxl to apply formatting to cells, font styles, colour, and the like.\n",
    "\n",
    "To apply formatting we need to import some classes from the openpyxl package. Each class applies a different type of formatting. For example, to format fonts, we import the `Font` class. To add borders, we import the `Border` class. And so on.\n",
    "\n",
    "When automating report creation with Python, we'll be starting with a template most of the time. So we usually won't have to do any formatting in Python.\n",
    "\n",
    "But it's useful to know about. So here's a quick example - how to change font styles.\n",
    "\n",
    "To learn more, see the [openpyxl guidance](https://openpyxl.readthedocs.io/en/stable/styles.html)."
   ]
  },
  {
   "cell_type": "code",
   "execution_count": null,
   "metadata": {},
   "outputs": [],
   "source": [
    "from openpyxl.styles import Font\n",
    "\n",
    "# Let's apply some styles to our report title using the Font class:\n",
    "ws_title['A3'].font = Font(\n",
    "    bold=True,\n",
    "    color='005eb8',\n",
    "    size=27,\n",
    "    name='Arial',\n",
    ")\n",
    "\n",
    "# Save the workbook with the new formatting changes\n",
    "wb.save('report_modified.xlsx')"
   ]
  },
  {
   "cell_type": "markdown",
   "metadata": {},
   "source": [
    "# Exercise\n",
    "\n",
    "We should make the \"Official Sensitive: Management Informtion Reporting Only\" subheader a bit more prominent. It's in cell A4 of the title sheet. \n",
    "\n",
    "In the cell below, make it red, and change the font size to 20."
   ]
  },
  {
   "cell_type": "code",
   "execution_count": null,
   "metadata": {},
   "outputs": [],
   "source": []
  },
  {
   "cell_type": "markdown",
   "metadata": {},
   "source": [
    "# Inserting a DataFrame into the spreadsheet"
   ]
  },
  {
   "cell_type": "markdown",
   "metadata": {},
   "source": [
    "We can insert DataFrames into worksheet, but they have to be Pandas DataFrames. If you're using PySpark, you'll have to convert them to Pandas with:\n",
    "\n",
    "```py\n",
    "df_pandas = df_spark.to_pandas()\n",
    "```\n",
    "\n",
    "Here we'll create a Pandas DataFrame manually and insert it into our template. So first let's create the df:"
   ]
  },
  {
   "cell_type": "code",
   "execution_count": null,
   "metadata": {},
   "outputs": [],
   "source": [
    "# Here's how to create a Pandas DataFram manually:\n",
    "\n",
    "data_example_1 = {\n",
    "    'Region': [\"East of England\", \"London\", \"Midlands\", \"North East and Yorkshire\", \"North West\", \"South East\", \"South West\"],\n",
    "    'Statistic 1': [25, 30, 35, 40, 45, 50, 55],\n",
    "    'Statistic 2': [11, 12, 55, 13, 14, 15, 16],\n",
    "}\n",
    "df_example_1 = pd.DataFrame(data_example_1)"
   ]
  },
  {
   "cell_type": "markdown",
   "metadata": {},
   "source": [
    "OK! We have some data. Here's a function we prepared earlier (*aka stole from Stack Overflow...*) that we can use to insert the DataFrame into a specified location in a given sheet:"
   ]
  },
  {
   "cell_type": "code",
   "execution_count": null,
   "metadata": {},
   "outputs": [],
   "source": [
    "from openpyxl.utils.dataframe import dataframe_to_rows\n",
    "\n",
    "def insert_pandas_df_into_excel(df, ws, header=True, startrow=1, startcol=1, index=True):\n",
    "    \"\"\"\n",
    "    Inserts a pandas dataframe into an excel worksheet\n",
    " \n",
    "    Parameters:\n",
    "    df: (pandas DataFrame): The pandas dataframe to be inserted\n",
    "    ws: (openpyxl sheet object): The openpyxl sheet object to insert the dataframe into (e.g. sheets['Data'])\n",
    "    startrow: (int): The starting row to insert the dataframe (default 0)\n",
    "    startcol: (int): The starting column to insert the dataframe (default 0)\n",
    "    index: (bool): Whether to include the index column in the dataframe (default True)\n",
    "    \"\"\"\n",
    "    rows = dataframe_to_rows(df, header=header, index=index)\n",
    "    for r_idx, row in enumerate(rows, startrow):\n",
    "        for c_idx, value in enumerate(row, startcol):\n",
    "             ws.cell(row=r_idx, column=c_idx).value = value"
   ]
  },
  {
   "cell_type": "markdown",
   "metadata": {},
   "source": [
    "Let's use this to add our example data into the table 1 sheet...."
   ]
  },
  {
   "cell_type": "code",
   "execution_count": null,
   "metadata": {},
   "outputs": [],
   "source": [
    "insert_pandas_df_into_excel(\n",
    "    df = df_example_1,\n",
    "    ws = wb['Table 1'],\n",
    "    header = False,\n",
    "    startrow = 7,\n",
    "    startcol = 1,\n",
    "    index = False,\n",
    ")\n",
    "\n",
    "# Save the workbook with the DataFrame inserted\n",
    "wb.save('report_modified.xlsx')"
   ]
  },
  {
   "cell_type": "markdown",
   "metadata": {},
   "source": [
    "# Exercise"
   ]
  },
  {
   "cell_type": "markdown",
   "metadata": {},
   "source": [
    "Now it's your turn! Here's another example DataFrame:"
   ]
  },
  {
   "cell_type": "code",
   "execution_count": null,
   "metadata": {},
   "outputs": [],
   "source": [
    "data_example_2 = {\n",
    "    'Procedure': [\"ABC\", \"DEF\", \"GHI\", \"JKL\", \"MNO\", \"PQR\", \"STU\"],\n",
    "    'Statistic 1': [124, 644, 84, 119, 644, 33, 90],\n",
    "    'Statistic 2': [20, 30, 40, 50, 60, 70, 80],\n",
    "}\n",
    "df_example_2 = pd.DataFrame(data_example_2)"
   ]
  },
  {
   "cell_type": "markdown",
   "metadata": {},
   "source": [
    "In the cell below, insert this data into the Table 2 sheet.\n",
    "\n",
    "Note that unlike Table 1, our Table 2 sheet does not have headers. How can we modify the code we used earlier to get the headers into the sheet?"
   ]
  },
  {
   "cell_type": "code",
   "execution_count": null,
   "metadata": {},
   "outputs": [],
   "source": []
  }
 ],
 "metadata": {
  "kernelspec": {
   "display_name": "Python 3",
   "language": "python",
   "name": "python3"
  },
  "language_info": {
   "codemirror_mode": {
    "name": "ipython",
    "version": 3
   },
   "file_extension": ".py",
   "mimetype": "text/x-python",
   "name": "python",
   "nbconvert_exporter": "python",
   "pygments_lexer": "ipython3",
   "version": "3.12.1"
  }
 },
 "nbformat": 4,
 "nbformat_minor": 2
}
