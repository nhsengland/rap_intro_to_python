{
 "cells": [
  {
   "cell_type": "markdown",
   "metadata": {},
   "source": [
    "# Homework \n",
    "\n",
    "Programming is best learnt through doing! This is some homework to complete before the next session.\n",
    "Replace the ???? with the correct piece of code to obtain the expected output, and run the cells to check"
   ]
  },
  {
   "cell_type": "markdown",
   "metadata": {},
   "source": [
    "### Conditionals"
   ]
  },
  {
   "cell_type": "code",
   "execution_count": 1,
   "metadata": {},
   "outputs": [
    {
     "name": "stdout",
     "output_type": "stream",
     "text": [
      "Good morning!\n"
     ]
    }
   ],
   "source": [
    "# Expected Output: Good morning\n",
    "time_of_day = \"morning\"\n",
    "if time_of_day == \"morning\":\n",
    "    print(\"Good morning!\")"
   ]
  },
  {
   "cell_type": "code",
   "execution_count": null,
   "metadata": {},
   "outputs": [],
   "source": [
    "# Expected Output: Relax at home\n",
    "day = \"Saturday\"\n",
    "if day == \"Monday\":\n",
    "    print(\"Go to work\")\n",
    "elif ????:\n",
    "    print(\"Relax at home\")"
   ]
  },
  {
   "cell_type": "code",
   "execution_count": null,
   "metadata": {},
   "outputs": [],
   "source": [
    "# Expected Output: Have a sandwich\n",
    "meal = \"lunch\"\n",
    "if meal == \"breakfast\":\n",
    "    print(\"Eat some cereal\")\n",
    "elif ?????:\n",
    "    print(\"Have a sandwich\")\n",
    "else:\n",
    "    print(\"Enjoy a nice dinner\")"
   ]
  },
  {
   "cell_type": "code",
   "execution_count": null,
   "metadata": {},
   "outputs": [],
   "source": [
    "# Expected Output: Please buy a ticket!\n",
    "age = 20\n",
    "has_ticket = True\n",
    "if (???? >= 18) and ???? == ????:\n",
    "    print(\"You can enter the concert\")\n",
    "elif (???? >= 18) and ???? == ????:\n",
    "    print(\"Please buy a ticket!\")\n",
    "????:\n",
    "    print(\"You can't enter!\")"
   ]
  },
  {
   "cell_type": "code",
   "execution_count": null,
   "metadata": {},
   "outputs": [],
   "source": [
    "# Expected Output: money_in_bank = 100, has_paid_rent = True\n",
    "money_in_bank = 1000\n",
    "has_paid_rent = False\n",
    "rent_amount = 900\n",
    "\n",
    "# We want to check if we have paid rent already, and if we have enough money to pay it\n",
    "if ???? (has_paid_rent) and ???? >= ????:\n",
    "    money_in_bank = money_in_bank - rent_amount\n",
    "    has_paid_rent = True\n",
    "\n",
    "print(money_in_bank)\n",
    "print(has_paid_rent)"
   ]
  },
  {
   "cell_type": "code",
   "execution_count": null,
   "metadata": {},
   "outputs": [],
   "source": [
    "# Fix the mistake:\n",
    "a = 1\n",
    "b = 2\n",
    "if a + b == 3\n",
    "    print(\"I love maths!\")"
   ]
  },
  {
   "cell_type": "code",
   "execution_count": null,
   "metadata": {},
   "outputs": [],
   "source": [
    "# Fix the mistakes\n",
    "name == Rachel\n",
    "if name == Kyle\n",
    "print I love baseball!\n",
    "else name == Lilidh\n",
    "print I love hockey\n",
    "else\n",
    "print I love sports!"
   ]
  },
  {
   "cell_type": "code",
   "execution_count": null,
   "metadata": {},
   "outputs": [],
   "source": [
    "# Using if/elif/else statements, update the clothing variable\n",
    "# For swimming and diving, you will need a swimsuit\n",
    "# For gymnastics, you will need a leotard\n",
    "# For any other, you will need shorts\n",
    "\n",
    "clothing = None\n",
    "activity = \"swimming\"\n",
    "\n",
    "# Write here:\n",
    "\n",
    "# Try replacing the activity variable at the top, so you can check it your code is working as expected\n",
    "print(f\"For {activity}, I will need to wear {clothing}\")"
   ]
  },
  {
   "cell_type": "markdown",
   "metadata": {},
   "source": [
    "### Loops"
   ]
  },
  {
   "cell_type": "code",
   "execution_count": null,
   "metadata": {},
   "outputs": [],
   "source": [
    "# Expected Output: Print numbers 1-11\n",
    "count = 0\n",
    "while count ???? 10:\n",
    "    count = count + ????\n",
    "    print(count)"
   ]
  },
  {
   "cell_type": "code",
   "execution_count": null,
   "metadata": {},
   "outputs": [],
   "source": [
    "# Expected Output: Print numbers 1-5, breaking after 5..\n",
    "count = 0\n",
    "my_name = ????\n",
    "while my_name == ????:\n",
    "    count = count + 1\n",
    "    print(count)\n",
    "    if count == ????:\n",
    "        ????"
   ]
  },
  {
   "cell_type": "code",
   "execution_count": null,
   "metadata": {},
   "outputs": [],
   "source": [
    "# Expected output: Print the sentence up to and including \"I have 10 candies\"\n",
    "for i in range(1, ????):\n",
    "    print(f\"I have {i} candies!\")"
   ]
  },
  {
   "cell_type": "code",
   "execution_count": null,
   "metadata": {},
   "outputs": [],
   "source": [
    "#Expected Output: A sentence for each sport in the list\n",
    "sports = [\"Soccer\", \"Basketball\", \"Tennis\", \"Baseball\", \"Hockey\"]\n",
    "for ???? in sports:\n",
    "    print(f\"I like to play {????}!\")"
   ]
  },
  {
   "cell_type": "code",
   "execution_count": null,
   "metadata": {},
   "outputs": [],
   "source": [
    "# Expected Output: 1 sentence for each vegetable\n",
    "vegetables = [\"potato\", \"carrot\", \"broccoli\", \"spinach\"]\n",
    "for vegetable in ????:\n",
    "    if vegetable == \"????\":\n",
    "        print(\"Carrots are my favorite!\")\n",
    "    else:\n",
    "        print(f\"I don't like {vegetable} that much.\")"
   ]
  },
  {
   "cell_type": "code",
   "execution_count": null,
   "metadata": {},
   "outputs": [],
   "source": [
    "# This is a nested loop, see if you can understand what it's doing\n",
    "# Expected Output: Every combination of colours and clothing\n",
    "colours = [\"red\", \"blue\", \"green\"]\n",
    "clothing = [\"shirt\", \"trousers\", \"hat\"]\n",
    "\n",
    "for colour in ???? :\n",
    "    for item in ????:\n",
    "        print(f\"A {colour} {item}\")"
   ]
  },
  {
   "cell_type": "code",
   "execution_count": null,
   "metadata": {},
   "outputs": [],
   "source": [
    "# Expected Output: A total of 15\n",
    "numbers = [1, 2, 3, 4, 5]\n",
    "total = 0\n",
    "for ???? in ???? :\n",
    "    total = total + ????\n",
    "print(\"The total is:\", total)"
   ]
  },
  {
   "cell_type": "code",
   "execution_count": null,
   "metadata": {},
   "outputs": [],
   "source": [
    "# Expected Output: The longest word is: dragonfruit\n",
    "# len(\"myword\") returns the number of characters in the string.\n",
    "words = [\"apple\", \"banana\", \"cherry\", \"dragonfruit\"]\n",
    "longest = \"\"\n",
    "for word in ???? :\n",
    "    if len(word) > len(????):\n",
    "        longest = ????\n",
    "print(\"The longest word is:\", longest)"
   ]
  },
  {
   "cell_type": "code",
   "execution_count": null,
   "metadata": {},
   "outputs": [],
   "source": [
    "# Expected Ouput: doubled_numbers is a list containing the doubled amount of the number in numbers.\n",
    "# Syntax of append method: list_name.append(element)\n",
    "numbers = [1, 2, 3, 4, 5]\n",
    "doubled_numbers = []\n",
    "for number in numbers:\n",
    "    ????.append(???? * 2)\n",
    "\n",
    "print(doubled_numbers)"
   ]
  },
  {
   "cell_type": "code",
   "execution_count": null,
   "metadata": {},
   "outputs": [],
   "source": [
    "# Fix the mistakes:\n",
    "# Expected Output: A list of numbers from 0 - 10\n",
    "for i in range(0, 10)\n",
    "print i"
   ]
  },
  {
   "cell_type": "markdown",
   "metadata": {},
   "source": [
    "### FizzBuzz\n",
    "\n",
    "A classic learning to code challenge: For the numbers 1-15, recreate the game FizzBuzz\n",
    "\n",
    "Aim: Count up to 15\n",
    "\n",
    "Rules:\n",
    "\n",
    "- If the number is divisible by 3, say Fizz\n",
    "- If the number is divisible by 5, say Buzz\n",
    "- If the number is divisible by 3 AND 5, say FizzBuzz\n",
    "- Else, just say the number\n",
    "\n",
    "You will need to use a combination of loops, and conditional statements\n",
    "\n",
    "\n",
    "Tip: the % operator (modulus) will give you the remainder of a division\n",
    "\n",
    "3 % 3 = 0 (3 divided by 3 would give no remainder)\n",
    "\n",
    "31 % 5 = 1 (31 divided by 5 would give 1 as a remainder)\n",
    "\n",
    "If you're stuck, go to file \"fizzbuzz_help.py\" to see a suggested layout - you'll still need to fill it in!"
   ]
  },
  {
   "cell_type": "markdown",
   "metadata": {},
   "source": [
    "# Push your branch!\n",
    "\n",
    "Make sure to add your changes to your branch and push them. If this is the first time you're pushing your branch you might need to tell git which remote branch you are pushing to, but it'll let you know the command to run.\n",
    "\n",
    "Use commands:\n",
    "\n",
    "- `git add .`\n",
    "- `git commit -m \"completed homework\"`\n",
    "- `git push`\n",
    "\n",
    "\n",
    "Once you're done with that, here's some webpages to continuing revising these skills:\n",
    "\n",
    "- Access Items on a list: https://www.w3schools.com/python/python_lists_access.asp\n",
    "- Change items in List: https://www.w3schools.com/python/python_lists_change.asp\n",
    "- Adding to Lists: https://www.w3schools.com/python/python_lists_add.asp\n",
    "- Removing from Lists: https://www.w3schools.com/python/python_lists_remove.asp\n",
    "- Loops + Lists: https://www.w3schools.com/python/python_lists_loop.asp\n",
    "- Conditions: https://www.w3schools.com/python/python_conditions.asp\n",
    "- While Loops: https://www.w3schools.com/python/python_while_loops.asp\n",
    "- For Loops: https://www.w3schools.com/python/python_for_loops.asp"
   ]
  },
  {
   "cell_type": "markdown",
   "metadata": {},
   "source": []
  }
 ],
 "metadata": {
  "kernelspec": {
   "display_name": "Python 3",
   "language": "python",
   "name": "python3"
  },
  "language_info": {
   "codemirror_mode": {
    "name": "ipython",
    "version": 3
   },
   "file_extension": ".py",
   "mimetype": "text/x-python",
   "name": "python",
   "nbconvert_exporter": "python",
   "pygments_lexer": "ipython3",
   "version": "3.12.1"
  }
 },
 "nbformat": 4,
 "nbformat_minor": 2
}
