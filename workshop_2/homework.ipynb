{
 "cells": [
  {
   "cell_type": "markdown",
   "metadata": {},
   "source": [
    "# Homework \n",
    "\n",
    "Programming is best learnt through doing! This is some homework to complete before the next session.\n",
    "Replace the ???? with the correct piece of code to obtain the expected output, and run the cells to check"
   ]
  },
  {
   "cell_type": "markdown",
   "metadata": {},
   "source": [
    "### Conditionals"
   ]
  },
  {
   "cell_type": "code",
   "execution_count": 5,
   "metadata": {},
   "outputs": [
    {
     "name": "stdout",
     "output_type": "stream",
     "text": [
      "Good morning!\n"
     ]
    }
   ],
   "source": [
    "# Expected Output: Good morning\n",
    "time_of_day = \"morning\"\n",
    "if time_of_day == \"morning\":\n",
    "    print(\"Good morning!\")"
   ]
  },
  {
   "cell_type": "code",
   "execution_count": 6,
   "metadata": {},
   "outputs": [
    {
     "name": "stdout",
     "output_type": "stream",
     "text": [
      "Relax at home\n"
     ]
    }
   ],
   "source": [
    "# Expected Output: Relax at home\n",
    "day = \"Saturday\"\n",
    "if day == \"Monday\":\n",
    "    print(\"Go to work\")\n",
    "elif day == \"Saturday\":\n",
    "    print(\"Relax at home\")"
   ]
  },
  {
   "cell_type": "code",
   "execution_count": 7,
   "metadata": {},
   "outputs": [
    {
     "name": "stdout",
     "output_type": "stream",
     "text": [
      "Have a sandwich\n"
     ]
    }
   ],
   "source": [
    "# Expected Output: Have a sandwich\n",
    "meal = \"lunch\"\n",
    "if meal == \"breakfast\":\n",
    "    print(\"Eat some cereal\")\n",
    "elif meal == \"lunch\":\n",
    "    print(\"Have a sandwich\")\n",
    "else:\n",
    "    print(\"Enjoy a nice dinner\")"
   ]
  },
  {
   "cell_type": "code",
   "execution_count": 8,
   "metadata": {},
   "outputs": [
    {
     "name": "stdout",
     "output_type": "stream",
     "text": [
      "Please buy a ticket!\n"
     ]
    }
   ],
   "source": [
    "# Expected Output: Please buy a ticket!\n",
    "age = 20\n",
    "has_ticket = False          # Changed from True\n",
    "if (age >= 18) and has_ticket == True:\n",
    "    print(\"You can enter the concert\")\n",
    "elif (age >= 18) and has_ticket == False:\n",
    "    print(\"Please buy a ticket!\")\n",
    "else:\n",
    "    print(\"You can't enter!\")"
   ]
  },
  {
   "cell_type": "code",
   "execution_count": 9,
   "metadata": {},
   "outputs": [
    {
     "name": "stdout",
     "output_type": "stream",
     "text": [
      "money_in_bank = 100, has_paid_rent = True\n"
     ]
    }
   ],
   "source": [
    "# Expected Output: money_in_bank = 100, has_paid_rent = True\n",
    "money_in_bank = 1000\n",
    "has_paid_rent = False\n",
    "rent_amount = 900\n",
    "\n",
    "# We want to check if we have paid rent already, and if we have enough money to pay it\n",
    "if not has_paid_rent and money_in_bank >= 1000:\n",
    "    money_in_bank = money_in_bank - rent_amount\n",
    "    has_paid_rent = True\n",
    "\n",
    "print(f\"money_in_bank = {money_in_bank}, has_paid_rent = {has_paid_rent}\")"
   ]
  },
  {
   "cell_type": "code",
   "execution_count": 10,
   "metadata": {},
   "outputs": [
    {
     "name": "stdout",
     "output_type": "stream",
     "text": [
      "I love maths!\n"
     ]
    }
   ],
   "source": [
    "# Fix the mistake:\n",
    "a = 1\n",
    "b = 2\n",
    "if a + b == 3:\n",
    "    print(\"I love maths!\")"
   ]
  },
  {
   "cell_type": "code",
   "execution_count": 11,
   "metadata": {},
   "outputs": [
    {
     "name": "stdout",
     "output_type": "stream",
     "text": [
      "I love sports!\n"
     ]
    }
   ],
   "source": [
    "# Fix the mistakes\n",
    "name = \"Rachel\"\n",
    "if name == \"Kyle\":\n",
    "    print (\"I love baseball!\")\n",
    "elif name == \"Lilidh\":\n",
    "    print (\"I love hockey\")\n",
    "else:\n",
    "    print (\"I love sports!\")"
   ]
  },
  {
   "cell_type": "code",
   "execution_count": 12,
   "metadata": {},
   "outputs": [
    {
     "name": "stdout",
     "output_type": "stream",
     "text": [
      "Rachel says 'I love sports!'\n",
      "Kyle says 'I love baseball!'\n",
      "Lilidh says 'I love hockey'\n"
     ]
    }
   ],
   "source": [
    "# Use function to call list of names\n",
    "names = [\"Rachel\", \"Kyle\", \"Lilidh\"]\n",
    "\n",
    "def sports_preferences(n):\n",
    "    if n == \"Kyle\":\n",
    "        print (f\"{n} says 'I love baseball!'\")\n",
    "    elif name == \"Lilidh\":\n",
    "        print (f\"{n} says 'I love hockey'\")\n",
    "    else:\n",
    "        print (f\"{n} says 'I love sports!'\")\n",
    "\n",
    "for name in names:\n",
    "    sports_preferences (name)\n"
   ]
  },
  {
   "cell_type": "code",
   "execution_count": 13,
   "metadata": {},
   "outputs": [
    {
     "name": "stdout",
     "output_type": "stream",
     "text": [
      "Rachel says 'I love sports!'\n",
      "Kyle says 'I love baseball!'\n",
      "Lilidh says 'I love hockey!'\n"
     ]
    }
   ],
   "source": [
    "# Simplify function to remove words duplication\n",
    "def sports_preferences(n):\n",
    "    if n == \"Kyle\":\n",
    "        sport = \"baseball\"\n",
    "    elif n == \"Lilidh\":\n",
    "        sport = \"hockey\"\n",
    "    else:\n",
    "        sport = \"sports\"\n",
    "    return sport\n",
    "\n",
    "\n",
    "names = [\"Rachel\", \"Kyle\", \"Lilidh\"]\n",
    "\n",
    "for name in names:\n",
    "    print (f\"{name} says 'I love {sports_preferences (name)}!'\")"
   ]
  },
  {
   "cell_type": "code",
   "execution_count": 14,
   "metadata": {},
   "outputs": [
    {
     "name": "stdout",
     "output_type": "stream",
     "text": [
      "Rachel says 'I love sports!\n",
      "Kyle says 'I love baseball!'\n",
      "Lilidh says 'I love hockey!'\n"
     ]
    }
   ],
   "source": [
    "# Use a dictionary to store each person's sports pref\n",
    "sports_prefs = {\n",
    "    \"Kyle\": \"baseball\",\n",
    "    \"Lilidh\": \"hockey\"\n",
    "}\n",
    "\n",
    "names = [\"Rachel\", \"Kyle\", \"Lilidh\"]\n",
    "\n",
    "for name in names:\n",
    "    if name in sports_prefs:\n",
    "        print (f\"{name} says 'I love {sports_prefs[name] }!'\")\n",
    "    else:\n",
    "        print (f\"{name} says 'I love sports!\")"
   ]
  },
  {
   "cell_type": "code",
   "execution_count": 15,
   "metadata": {},
   "outputs": [
    {
     "name": "stdout",
     "output_type": "stream",
     "text": [
      "For swimming, I will need to wear swimsuit\n",
      "For diving, I will need to wear swimsuit\n",
      "For gymnastics, I will need to wear leotard\n",
      "For squash, I will need to wear shorts\n",
      "For football, I will need to wear shorts\n",
      "For golf, I will need to wear shorts\n",
      "For tossing the caber, I will need to wear kilt\n"
     ]
    }
   ],
   "source": [
    "\n",
    "# Using if/elif/else statements, update the clothing variable\n",
    "# For swimming and diving, you will need a swimsuit\n",
    "# For gymnastics, you will need a leotard\n",
    "# For any other, you will need shorts\n",
    "\n",
    "activities = [\"swimming\", \"diving\", \"gymnastics\"]\n",
    "\n",
    "activities.append(\"squash\")                                     # The append method can only add one item.\n",
    "activities.extend([\"football\", \"golf\", \"tossing the caber\"])    # So use extend method to combine lists.\n",
    "\n",
    "for a in activities:\n",
    "    if a in [\"swimming\", \"diving\"]:\n",
    "        clothing = \"swimsuit\"\n",
    "    elif a == \"gymnastics\":\n",
    "        clothing = \"leotard\"\n",
    "    elif \"caber\" in a:\n",
    "        clothing = \"kilt\"\n",
    "    else:\n",
    "        clothing = \"shorts\" \n",
    "    print(f\"For {a}, I will need to wear {clothing}\")"
   ]
  },
  {
   "cell_type": "markdown",
   "metadata": {},
   "source": [
    "### Loops"
   ]
  },
  {
   "cell_type": "code",
   "execution_count": 16,
   "metadata": {},
   "outputs": [
    {
     "name": "stdout",
     "output_type": "stream",
     "text": [
      "1\n",
      "2\n",
      "3\n",
      "4\n",
      "5\n",
      "6\n",
      "7\n",
      "8\n",
      "9\n",
      "10\n",
      "11\n"
     ]
    }
   ],
   "source": [
    "# Expected Output: Print numbers 1-11\n",
    "count = 0\n",
    "while count < 11:\n",
    "    count = count + 1\n",
    "    print(count)"
   ]
  },
  {
   "cell_type": "code",
   "execution_count": 17,
   "metadata": {},
   "outputs": [
    {
     "name": "stdout",
     "output_type": "stream",
     "text": [
      "1\n",
      "2\n",
      "3\n",
      "4\n",
      "5\n"
     ]
    }
   ],
   "source": [
    "# Expected Output: Print numbers 1-5, breaking after 5..\n",
    "count = 0\n",
    "my_name = \"Inigo Montoya\"\n",
    "while my_name == \"Inigo Montoya\":\n",
    "    count = count + 1\n",
    "    print(count)\n",
    "    if count == 5:\n",
    "        break"
   ]
  },
  {
   "cell_type": "code",
   "execution_count": 18,
   "metadata": {},
   "outputs": [
    {
     "name": "stdout",
     "output_type": "stream",
     "text": [
      "I have 1 candies!\n",
      "I have 2 candies!\n",
      "I have 3 candies!\n",
      "I have 4 candies!\n",
      "I have 5 candies!\n",
      "I have 6 candies!\n",
      "I have 7 candies!\n",
      "I have 8 candies!\n",
      "I have 9 candies!\n",
      "I have 10 candies!\n"
     ]
    }
   ],
   "source": [
    "# Expected output: Print the sentence up to and including \"I have 10 candies\"\n",
    "for i in range(1, 11):\n",
    "    print(f\"I have {i} candies!\")"
   ]
  },
  {
   "cell_type": "code",
   "execution_count": 19,
   "metadata": {},
   "outputs": [
    {
     "name": "stdout",
     "output_type": "stream",
     "text": [
      "I like to play Soccer!\n",
      "I like to play Basketball!\n",
      "I like to play Tennis!\n",
      "I like to play Baseball!\n",
      "I like to play Hockey!\n"
     ]
    }
   ],
   "source": [
    "#Expected Output: A sentence for each sport in the list\n",
    "sports = [\"Soccer\", \"Basketball\", \"Tennis\", \"Baseball\", \"Hockey\"]\n",
    "for s in sports:\n",
    "    print(f\"I like to play {s}!\")"
   ]
  },
  {
   "cell_type": "code",
   "execution_count": 20,
   "metadata": {},
   "outputs": [
    {
     "name": "stdout",
     "output_type": "stream",
     "text": [
      "I don't like potato that much.\n",
      "Carrots are my favorite!\n",
      "I don't like broccoli that much.\n",
      "I don't like spinach that much.\n"
     ]
    }
   ],
   "source": [
    "# Expected Output: 1 sentence for each vegetable\n",
    "vegetables = [\"potato\", \"carrot\", \"broccoli\", \"spinach\"]\n",
    "for vegetable in vegetables:\n",
    "    if vegetable == \"carrot\":\n",
    "        print(\"Carrots are my favorite!\")\n",
    "    else:\n",
    "        print(f\"I don't like {vegetable} that much.\")"
   ]
  },
  {
   "cell_type": "code",
   "execution_count": 21,
   "metadata": {},
   "outputs": [
    {
     "name": "stdout",
     "output_type": "stream",
     "text": [
      "A red shirt\n",
      "A red trousers\n",
      "A red hat\n",
      "A blue shirt\n",
      "A blue trousers\n",
      "A blue hat\n",
      "A green shirt\n",
      "A green trousers\n",
      "A green hat\n"
     ]
    }
   ],
   "source": [
    "# This is a nested loop, see if you can understand what it's doing\n",
    "# Expected Output: Every combination of colours and clothing\n",
    "colours = [\"red\", \"blue\", \"green\"]\n",
    "clothing = [\"shirt\", \"trousers\", \"hat\"]\n",
    "\n",
    "for colour in colours :\n",
    "    for item in clothing:\n",
    "        print(f\"A {colour} {item}\")"
   ]
  },
  {
   "cell_type": "code",
   "execution_count": 22,
   "metadata": {},
   "outputs": [
    {
     "name": "stdout",
     "output_type": "stream",
     "text": [
      "The total is: 15\n"
     ]
    }
   ],
   "source": [
    "# Expected Output: A total of 15\n",
    "numbers = [1, 2, 3, 4, 5]\n",
    "total = 0\n",
    "for n in numbers:\n",
    "    total = total + n\n",
    "print(\"The total is:\", total)"
   ]
  },
  {
   "cell_type": "code",
   "execution_count": 23,
   "metadata": {},
   "outputs": [
    {
     "name": "stdout",
     "output_type": "stream",
     "text": [
      "The longest word is: dragonfruit\n"
     ]
    }
   ],
   "source": [
    "# Expected Output: The longest word is: dragonfruit\n",
    "# len(\"myword\") returns the number of characters in the string.\n",
    "words = [\"apple\", \"banana\", \"cherry\", \"dragonfruit\", \"grape\"]\n",
    "longest = \"\"\n",
    "for word in words :\n",
    "    if len(word) > len(longest):\n",
    "        longest = word\n",
    "print(\"The longest word is:\", longest)"
   ]
  },
  {
   "cell_type": "code",
   "execution_count": 24,
   "metadata": {},
   "outputs": [
    {
     "name": "stdout",
     "output_type": "stream",
     "text": [
      "[2, 4, 6, 8, 10]\n"
     ]
    }
   ],
   "source": [
    "# Expected Ouput: doubled_numbers is a list containing the doubled amount of the number in numbers.\n",
    "# Syntax of append method: list_name.append(element)\n",
    "numbers = [1, 2, 3, 4, 5]\n",
    "doubled_numbers = []\n",
    "for number in numbers:\n",
    "    doubled_numbers.append(number * 2)\n",
    "\n",
    "print(doubled_numbers)"
   ]
  },
  {
   "cell_type": "code",
   "execution_count": 25,
   "metadata": {},
   "outputs": [
    {
     "data": {
      "text/plain": [
       "[2, 4, 6, 8, 10]"
      ]
     },
     "execution_count": 25,
     "metadata": {},
     "output_type": "execute_result"
    }
   ],
   "source": [
    "# Using list comprehension\n",
    "[n*2 for n in numbers]\n"
   ]
  },
  {
   "cell_type": "code",
   "execution_count": 26,
   "metadata": {},
   "outputs": [
    {
     "name": "stdout",
     "output_type": "stream",
     "text": [
      "0\n",
      "1\n",
      "2\n",
      "3\n",
      "4\n",
      "5\n",
      "6\n",
      "7\n",
      "8\n",
      "9\n",
      "10\n"
     ]
    }
   ],
   "source": [
    "# Fix the mistakes:\n",
    "# Expected Output: A list of numbers from 0 - 10\n",
    "for i in range(11):\n",
    "    print (i)"
   ]
  },
  {
   "cell_type": "markdown",
   "metadata": {},
   "source": [
    "### FizzBuzz\n",
    "\n",
    "A classic learning to code challenge: For the numbers 1-15, recreate the game FizzBuzz\n",
    "\n",
    "Aim: Count up to 15\n",
    "\n",
    "Rules:\n",
    "\n",
    "- If the number is divisible by 3, say Fizz\n",
    "- If the number is divisible by 5, say Buzz\n",
    "- If the number is divisible by 3 AND 5, say FizzBuzz\n",
    "- Else, just say the number\n",
    "\n",
    "You will need to use a combination of loops, and conditional statements\n",
    "\n",
    "\n",
    "Tip: the % operator (modulus) will give you the remainder of a division\n",
    "\n",
    "3 % 3 = 0 (3 divided by 3 would give no remainder)\n",
    "\n",
    "31 % 5 = 1 (31 divided by 5 would give 1 as a remainder)\n",
    "\n",
    "If you're stuck, go to file \"fizzbuzz_help.py\" to see a suggested layout - you'll still need to fill it in!"
   ]
  },
  {
   "cell_type": "code",
   "execution_count": 27,
   "metadata": {},
   "outputs": [
    {
     "name": "stdout",
     "output_type": "stream",
     "text": [
      "1\n",
      "2\n",
      "Fizz\n",
      "4\n",
      "Buzz\n",
      "Fizz\n",
      "7\n",
      "8\n",
      "Fizz\n",
      "Buzz\n",
      "11\n",
      "Fizz\n",
      "13\n",
      "14\n",
      "FizzBuzz\n"
     ]
    }
   ],
   "source": [
    "for n in range (1,16):\n",
    "    say = \"\"\n",
    "    if n % 3 == 0:\n",
    "        say += \"Fizz\"\n",
    "    if n % 5 == 0:\n",
    "        say += \"Buzz\"\n",
    "\n",
    "    if say != \"\":\n",
    "        print (say)    \n",
    "    else:\n",
    "        print (n)\n"
   ]
  },
  {
   "cell_type": "markdown",
   "metadata": {},
   "source": [
    "# Push your branch!\n",
    "\n",
    "Make sure to add your changes to your branch and push them. If this is the first time you're pushing your branch you might need to tell git which remote branch you are pushing to, but it'll let you know the command to run.\n",
    "\n",
    "Use commands:\n",
    "\n",
    "- `git add .`\n",
    "- `git commit -m \"completed homework\"`\n",
    "- `git push`\n",
    "\n",
    "\n",
    "Once you're done with that, here's some webpages to continuing revising these skills:\n",
    "\n",
    "- Access Items on a list: https://www.w3schools.com/python/python_lists_access.asp\n",
    "- Change items in List: https://www.w3schools.com/python/python_lists_change.asp\n",
    "- Adding to Lists: https://www.w3schools.com/python/python_lists_add.asp\n",
    "- Removing from Lists: https://www.w3schools.com/python/python_lists_remove.asp\n",
    "- Loops + Lists: https://www.w3schools.com/python/python_lists_loop.asp\n",
    "- Conditions: https://www.w3schools.com/python/python_conditions.asp\n",
    "- While Loops: https://www.w3schools.com/python/python_while_loops.asp\n",
    "- For Loops: https://www.w3schools.com/python/python_for_loops.asp"
   ]
  },
  {
   "cell_type": "markdown",
   "metadata": {},
   "source": []
  }
 ],
 "metadata": {
  "kernelspec": {
   "display_name": "Python 3",
   "language": "python",
   "name": "python3"
  },
  "language_info": {
   "codemirror_mode": {
    "name": "ipython",
    "version": 3
   },
   "file_extension": ".py",
   "mimetype": "text/x-python",
   "name": "python",
   "nbconvert_exporter": "python",
   "pygments_lexer": "ipython3",
   "version": "3.12.1"
  }
 },
 "nbformat": 4,
 "nbformat_minor": 2
}
