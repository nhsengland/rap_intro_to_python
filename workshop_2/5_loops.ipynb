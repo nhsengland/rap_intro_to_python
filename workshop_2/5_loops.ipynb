{
 "cells": [
  {
   "cell_type": "markdown",
   "metadata": {},
   "source": [
    "# Loops\n",
    "\n",
    "Loops are a way we can easily repeat tasks in python\n",
    "There are two types: `for` and `while`"
   ]
  },
  {
   "cell_type": "markdown",
   "metadata": {},
   "source": [
    "## `while` Loops\n",
    "\n",
    "A While loop will repeat itself until a certain condition is satisfied. This can make them tricky, because if you're not careful they will never end!\n",
    "\n",
    "\n",
    "To cancel the cell execution, press the stop square. If you are running in the terminal use *ctrl+c* to cancel.\n",
    "\n",
    "Use the \"Clear All Outputs\" button at the top to clean your file up.\n"
   ]
  },
  {
   "cell_type": "code",
   "execution_count": 4,
   "metadata": {},
   "outputs": [
    {
     "name": "stdout",
     "output_type": "stream",
     "text": [
      "1\n",
      "2\n",
      "3\n",
      "4\n",
      "5\n",
      "6\n"
     ]
    }
   ],
   "source": [
    "count = 0\n",
    "while count <= 5:\n",
    "    count = count + 1\n",
    "    print(count)"
   ]
  },
  {
   "cell_type": "markdown",
   "metadata": {},
   "source": [
    "Now you've seen the result of running the while loop above, what could you add to make sure it will stop at the right time?"
   ]
  },
  {
   "cell_type": "markdown",
   "metadata": {},
   "source": [
    "## `break`"
   ]
  },
  {
   "cell_type": "markdown",
   "metadata": {},
   "source": [
    "We can use `break` to make the loop stop. Otherwise, this loop would go on forever as the condition for it (1 + 1 == 2) is always `True`."
   ]
  },
  {
   "cell_type": "code",
   "execution_count": 5,
   "metadata": {},
   "outputs": [
    {
     "name": "stdout",
     "output_type": "stream",
     "text": [
      "count: 1\n",
      "count: 2\n",
      "count: 3\n",
      "count: 4\n",
      "count: 5\n",
      "count: 6\n",
      "count: 7\n",
      "count: 8\n",
      "count: 9\n",
      "count: 10\n",
      "STOP!\n"
     ]
    }
   ],
   "source": [
    "count = 0\n",
    "while 1 + 1 == 2:\n",
    "    count = count + 1\n",
    "    print(\"count:\", count)\n",
    "    if count == 10:\n",
    "        print(\"STOP!\")\n",
    "        break"
   ]
  },
  {
   "cell_type": "markdown",
   "metadata": {},
   "source": [
    "## `for` Loops\n",
    "\n",
    "`for` loops are much more commonly used, they are used to loop through an iterable.\n",
    "\n",
    "The below cell will iterate through the list of numbers included in the range 0-10 (this excludes 10) and printed something for each one"
   ]
  },
  {
   "cell_type": "code",
   "execution_count": 8,
   "metadata": {},
   "outputs": [
    {
     "name": "stdout",
     "output_type": "stream",
     "text": [
      "I have 1 ice creams!\n",
      "I have 2 ice creams!\n",
      "I have 3 ice creams!\n",
      "I have 4 ice creams!\n",
      "I have 5 ice creams!\n",
      "I have 6 ice creams!\n",
      "I have 7 ice creams!\n",
      "I have 8 ice creams!\n",
      "I have 9 ice creams!\n",
      "I have 10 ice creams!\n"
     ]
    }
   ],
   "source": [
    "for i in range(1,11):\n",
    "    print(f\"I have {i} ice creams!\")"
   ]
  },
  {
   "cell_type": "markdown",
   "metadata": {},
   "source": [
    "### Lists\n",
    "\n",
    "In Python we commonly use a type of object called a list, which is represented by square brackets, with each item separated by a comma.\n",
    "Lists are commonly looped through using for loops."
   ]
  },
  {
   "cell_type": "code",
   "execution_count": 16,
   "metadata": {},
   "outputs": [
    {
     "name": "stdout",
     "output_type": "stream",
     "text": [
      "I love to program in Python!\n",
      "I love to program in JavaScript!\n",
      "I love to program in c#!\n",
      "I love to program in R!\n",
      "I love to program in Ruby!\n",
      "I love to program in C++!\n",
      "I love to program in French!\n",
      "French\n"
     ]
    }
   ],
   "source": [
    "languages = [\"Python\", \"JavaScript\", \"c#\", \"R\", \"Ruby\", \"C++\", \"French\"]\n",
    "\n",
    "for lang in languages:\n",
    "    print(f\"I love to program in {lang}!\")\n",
    "print (lang)"
   ]
  },
  {
   "cell_type": "markdown",
   "metadata": {},
   "source": [
    "### Combining Lists and Conditions\n",
    "\n",
    "Have a look at the cell below, what do you think the outcome is?\n"
   ]
  },
  {
   "cell_type": "code",
   "execution_count": 17,
   "metadata": {},
   "outputs": [
    {
     "name": "stdout",
     "output_type": "stream",
     "text": [
      "Bleh! I hate apple!\n",
      "Bleh! I hate banana!\n",
      "I love cherries!\n",
      "Bleh! I hate dragonfruit!\n",
      "Bleh! I hate elderberry!\n"
     ]
    }
   ],
   "source": [
    "fruits = [\"apple\", \"banana\", \"cherry\", \"dragonfruit\", \"elderberry\"]\n",
    "for fruit in fruits:\n",
    "    if fruit == \"cherry\":\n",
    "        print(\"I love cherries!\")\n",
    "    else:\n",
    "        print(f\"Bleh! I hate {fruit}!\")"
   ]
  },
  {
   "cell_type": "markdown",
   "metadata": {},
   "source": [
    "### Appending\n",
    "\n",
    "To append sometime to a list means we are adding it on to the end of it.\n",
    "\n",
    "Syntax: `name_of_list_we_are_adding_to.append(item_we_are_adding)`"
   ]
  },
  {
   "cell_type": "code",
   "execution_count": 18,
   "metadata": {},
   "outputs": [
    {
     "name": "stdout",
     "output_type": "stream",
     "text": [
      "['Artichoke', 'Bay Leaves', 'Courgette', 'Dumplings']\n"
     ]
    }
   ],
   "source": [
    "my_shopping_list = [\"Artichoke\", \"Bay Leaves\", \"Courgette\"]\n",
    "my_shopping_list.append(\"Dumplings\")\n",
    "\n",
    "print(my_shopping_list)"
   ]
  },
  {
   "cell_type": "markdown",
   "metadata": {},
   "source": [
    "We can append multiple things to a list using for loops"
   ]
  },
  {
   "cell_type": "code",
   "execution_count": 21,
   "metadata": {},
   "outputs": [
    {
     "name": "stdout",
     "output_type": "stream",
     "text": [
      "[0]\n",
      "[0, 1]\n",
      "[0, 1, 2]\n",
      "[0, 1, 2, 3]\n",
      "[0, 1, 2, 3, 4]\n",
      "[0, 1, 2, 3, 4, 5]\n",
      "[0, 1, 2, 3, 4, 5, 6]\n",
      "[0, 1, 2, 3, 4, 5, 6, 7]\n",
      "[0, 1, 2, 3, 4, 5, 6, 7, 8]\n",
      "[0, 1, 2, 3, 4, 5, 6, 7, 8, 9]\n",
      "[0, 1, 2, 3, 4, 5, 6, 7, 8, 9, 10]\n",
      "[0, 1, 2, 3, 4, 5, 6, 7, 8, 9, 10]\n"
     ]
    }
   ],
   "source": [
    "numbers = [] # Empty list\n",
    "for i in range(0, 11):\n",
    "    numbers.append(i)\n",
    "    print(numbers)\n",
    "print(numbers)"
   ]
  },
  {
   "cell_type": "markdown",
   "metadata": {},
   "source": [
    "### % (Modulus) Operator \n",
    "This returns the remainder after a division.\n",
    "We can use it to return only the even numbers (numbers which have no remainder after dividing by two).\n",
    "\n",
    "How would you change the below cell to get multiples of 5?"
   ]
  },
  {
   "cell_type": "code",
   "execution_count": 24,
   "metadata": {},
   "outputs": [
    {
     "name": "stdout",
     "output_type": "stream",
     "text": [
      "5\n",
      "10\n",
      "15\n",
      "20\n",
      "25\n",
      "30\n",
      "35\n",
      "40\n",
      "45\n",
      "50\n",
      "55\n",
      "60\n",
      "65\n",
      "70\n",
      "75\n",
      "80\n",
      "85\n",
      "90\n",
      "95\n",
      "100\n"
     ]
    }
   ],
   "source": [
    "for i in range(1, 101):\n",
    "    if i % 5 == 0:\n",
    "        print(i)"
   ]
  }
 ],
 "metadata": {
  "kernelspec": {
   "display_name": "Python 3",
   "language": "python",
   "name": "python3"
  },
  "language_info": {
   "codemirror_mode": {
    "name": "ipython",
    "version": 3
   },
   "file_extension": ".py",
   "mimetype": "text/x-python",
   "name": "python",
   "nbconvert_exporter": "python",
   "pygments_lexer": "ipython3",
   "version": "3.12.1"
  }
 },
 "nbformat": 4,
 "nbformat_minor": 2
}
