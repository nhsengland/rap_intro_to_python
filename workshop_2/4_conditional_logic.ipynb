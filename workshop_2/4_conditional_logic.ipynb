{
 "cells": [
  {
   "cell_type": "markdown",
   "metadata": {},
   "source": [
    "# Conditional Logic\n",
    "\n",
    "Here we'll learn about `if/elif/else` statements. These can help us only execute certain lines of code if other conditions are met.\n",
    "\n",
    "Conditional statements will execute only if True: try running the one below. What can you change to get the print statement to run?"
   ]
  },
  {
   "cell_type": "markdown",
   "metadata": {},
   "source": [
    "# `if` statements"
   ]
  },
  {
   "cell_type": "code",
   "execution_count": null,
   "metadata": {},
   "outputs": [],
   "source": [
    "if False:\n",
    "    print(\"I am True\")"
   ]
  },
  {
   "cell_type": "markdown",
   "metadata": {},
   "source": [
    "`if` statements are typically run using comparison operators, where if the result of the comparison is `True`, then we will enter the `if` statement."
   ]
  },
  {
   "cell_type": "code",
   "execution_count": null,
   "metadata": {},
   "outputs": [],
   "source": [
    "weather = \"sunny\"\n",
    "weather == \"sunny\""
   ]
  },
  {
   "cell_type": "code",
   "execution_count": null,
   "metadata": {},
   "outputs": [],
   "source": [
    "if weather == \"sunny\":\n",
    "    print(\"The sun is shining!\")"
   ]
  },
  {
   "cell_type": "markdown",
   "metadata": {},
   "source": [
    "Perfect! Our weather variable is equal to \"sunny\", as we set above, to the comparison statement returns `True` and we enter the `if` statement and execute the code within it.\n"
   ]
  },
  {
   "cell_type": "markdown",
   "metadata": {},
   "source": [
    "# Indentation\n",
    "\n",
    "Indentatation is really important in python. It groups lines of code together and tells python what code you expect to be run when. \n",
    "\n",
    "Before running the cell below, have a think about what you think the result will be."
   ]
  },
  {
   "cell_type": "code",
   "execution_count": null,
   "metadata": {},
   "outputs": [],
   "source": [
    "weather = \"rainy\"\n",
    "if weather == \"sunny\":\n",
    "    print(\"It's so sunny!\")\n",
    "print(\"I love the sun!\")"
   ]
  },
  {
   "cell_type": "markdown",
   "metadata": {},
   "source": [
    "How could you edit the code above, using a different level of indentation, to only print statements about the sun when the weather is sunny?"
   ]
  },
  {
   "cell_type": "markdown",
   "metadata": {},
   "source": [
    "# `else` statements"
   ]
  },
  {
   "cell_type": "markdown",
   "metadata": {},
   "source": [
    "Sometimes, if a certain condition isn't met, you want to execute a different piece of code. There, we would use an `else` block, after the `if` block. If the `if` block evaluates to `False`, the the code inside the else block will run."
   ]
  },
  {
   "cell_type": "code",
   "execution_count": null,
   "metadata": {},
   "outputs": [],
   "source": [
    "weather = \"rainy\"\n",
    "if weather == \"sunny\":\n",
    "    print(\"Let's go to the beach!\")\n",
    "else:\n",
    "    print(\"No beach today :(\")"
   ]
  },
  {
   "cell_type": "markdown",
   "metadata": {},
   "source": [
    "Unlike `if` statements, `else` statements can't be used on their own, they must be used after an `if`."
   ]
  },
  {
   "cell_type": "markdown",
   "metadata": {},
   "source": [
    "# `elif` statements"
   ]
  },
  {
   "cell_type": "markdown",
   "metadata": {},
   "source": [
    "We might also want to execute several different lines of code based on several different conditions. We use `elif` (short for else if) to do this. It comes after `if`, before `else`, and you can have as many as you want. `else` statements aren't necessary after an `elif` statement, but if statements are necessary before."
   ]
  },
  {
   "cell_type": "code",
   "execution_count": null,
   "metadata": {},
   "outputs": [],
   "source": [
    "weather = \"cloudy\"\n",
    "if weather == \"sunny\":\n",
    "    print(\"Summer is here!\")\n",
    "elif weather == \"rainy\":\n",
    "    print(\"Bring out the umbrellas\")\n",
    "elif weather == \"snowy\":\n",
    "    print(\"Let's built a snowman\")"
   ]
  },
  {
   "cell_type": "markdown",
   "metadata": {},
   "source": [
    "Can you add another statement to the above cell that will print out something if the weather is neither sunny, rainy nor snowy?"
   ]
  },
  {
   "cell_type": "markdown",
   "metadata": {},
   "source": [
    "# Combining operators and conditions\n",
    "\n",
    "We can combine `if` statements, comparison operators and logical operators all together!\n",
    "\n",
    "Before running the below cells, have a think about what you think the result will be and why."
   ]
  },
  {
   "cell_type": "code",
   "execution_count": null,
   "metadata": {},
   "outputs": [],
   "source": [
    "a = 1\n",
    "b = 3\n",
    "weather == \"cloudy\"\n",
    "\n",
    "# The brackets are optional, but I've added them here for clarity\n",
    "if (a + b == 4) and (b > a) and (weather == \"cloudy\"):\n",
    "    print(\"Wow!\")"
   ]
  },
  {
   "cell_type": "code",
   "execution_count": null,
   "metadata": {},
   "outputs": [],
   "source": [
    "a = 1\n",
    "b = 3\n",
    "weather == \"cloudy\"\n",
    "\n",
    "if (a + b == 100) or (not weather == \"sunny\"):\n",
    "    print(\"Zoinks!\")"
   ]
  }
 ],
 "metadata": {
  "kernelspec": {
   "display_name": "Python 3",
   "language": "python",
   "name": "python3"
  },
  "language_info": {
   "codemirror_mode": {
    "name": "ipython",
    "version": 3
   },
   "file_extension": ".py",
   "mimetype": "text/x-python",
   "name": "python",
   "nbconvert_exporter": "python",
   "pygments_lexer": "ipython3",
   "version": "3.12.1"
  }
 },
 "nbformat": 4,
 "nbformat_minor": 2
}
