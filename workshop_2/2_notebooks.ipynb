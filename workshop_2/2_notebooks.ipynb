{
 "cells": [
  {
   "cell_type": "markdown",
   "metadata": {},
   "source": [
    "# Notebooks"
   ]
  },
  {
   "cell_type": "markdown",
   "metadata": {},
   "source": [
    "This is a notebook - it lets you write you code in cells, which can be code cells, or markdown cells where you can write notes\n",
    "\n"
   ]
  },
  {
   "cell_type": "markdown",
   "metadata": {},
   "source": [
    "They are useful for development and prototyping because you can run each cell/bit of code individually and see the output.\n",
    "\n",
    "Hover over a cell and click the triangle play button to run it. Or click in the cell and press Ctrl+Enter"
   ]
  },
  {
   "cell_type": "code",
   "execution_count": 6,
   "metadata": {},
   "outputs": [
    {
     "name": "stdout",
     "output_type": "stream",
     "text": [
      "like this for example\n"
     ]
    }
   ],
   "source": [
    "print(\"like this for example\")"
   ]
  },
  {
   "cell_type": "markdown",
   "metadata": {},
   "source": [
    "They also remember state. So if you define a variable in one cell, and run that cell, it will store the value of that variable so that you can use it in other cells."
   ]
  },
  {
   "cell_type": "code",
   "execution_count": 7,
   "metadata": {},
   "outputs": [],
   "source": [
    "a_variable = \"I was defined earlier!\""
   ]
  },
  {
   "cell_type": "code",
   "execution_count": 8,
   "metadata": {},
   "outputs": [
    {
     "name": "stdout",
     "output_type": "stream",
     "text": [
      "I was defined earlier!\n"
     ]
    }
   ],
   "source": [
    "print(a_variable)"
   ]
  },
  {
   "cell_type": "markdown",
   "metadata": {},
   "source": [
    "However, they have some disadvantages.\n",
    "\n",
    "Generally, they are not great for production code that you commit to the repo. \n",
    "\n",
    "They don't play nice with git. They are not flat text files, and have other things going on under the bonnet. Sometimes, these underlying things will change, and git will flag the file as modified, even though your code hasn't changed.\n",
    "\n",
    "When you commit a notebook, it will commit your outputs. This creates a risk of accidentally committing data to the repo.\n",
    "\n",
    "Databricks solves this problem - it converts notebook files to flat .py files when you commit, and converts them back into notebooks when inside Databricks."
   ]
  },
  {
   "cell_type": "markdown",
   "metadata": {},
   "source": [
    "So while they are good for development and training, we will try to avoid using them in our actual code unless we are using Databricks."
   ]
  }
 ],
 "metadata": {
  "kernelspec": {
   "display_name": "Python 3",
   "language": "python",
   "name": "python3"
  },
  "language_info": {
   "codemirror_mode": {
    "name": "ipython",
    "version": 3
   },
   "file_extension": ".py",
   "mimetype": "text/x-python",
   "name": "python",
   "nbconvert_exporter": "python",
   "pygments_lexer": "ipython3",
   "version": "3.12.1"
  }
 },
 "nbformat": 4,
 "nbformat_minor": 2
}
